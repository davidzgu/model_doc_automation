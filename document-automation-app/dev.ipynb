{
 "cells": [
  {
   "cell_type": "code",
   "execution_count": 1,
   "id": "2dfd888b",
   "metadata": {},
   "outputs": [],
   "source": [
    "import importlib\n",
    "from pathlib import Path\n",
    "import os"
   ]
  },
  {
   "cell_type": "code",
   "execution_count": 2,
   "id": "a25b861f",
   "metadata": {},
   "outputs": [],
   "source": [
    "from langchain_core.messages import HumanMessage\n",
    "\n",
    "from src import llm\n",
    "importlib.reload(llm)\n",
    "from src.llm import get_llm\n",
    "\n",
    "from src import tools\n",
    "importlib.reload(tools)\n",
    "from src.tools import get_tools\n",
    "\n",
    "from src import prompts\n",
    "importlib.reload(prompts)\n",
    "from src.prompts import READ_AND_CALC\n",
    "\n",
    "from src import agent\n",
    "importlib.reload(agent)\n",
    "from src.agent import build_agent"
   ]
  },
  {
   "cell_type": "code",
   "execution_count": 3,
   "id": "c0b45a5f",
   "metadata": {},
   "outputs": [],
   "source": [
    "llm = get_llm()"
   ]
  },
  {
   "cell_type": "code",
   "execution_count": 4,
   "id": "300e6ea8",
   "metadata": {},
   "outputs": [],
   "source": [
    "tools = get_tools()"
   ]
  },
  {
   "cell_type": "code",
   "execution_count": 5,
   "id": "76074f20",
   "metadata": {},
   "outputs": [],
   "source": [
    "agent = build_agent(llm, tools)"
   ]
  },
  {
   "cell_type": "code",
   "execution_count": null,
   "id": "322c9027",
   "metadata": {},
   "outputs": [
    {
     "name": "stdout",
     "output_type": "stream",
     "text": [
      "CSV路径: /Users/yifanli/Github/model_doc_automation/inputs/dummy_options.csv\n",
      "文件是否存在: True\n"
     ]
    }
   ],
   "source": [
    "notebook_dir = Path(os.getcwd())\n",
    "csv_path = notebook_dir.parent / \"inputs\" / \"dummy_options.csv\"\n",
    "print(f\"CSV path: {csv_path}\")"
   ]
  },
  {
   "cell_type": "code",
   "execution_count": 7,
   "id": "8c218a6f",
   "metadata": {},
   "outputs": [],
   "source": [
    "msg = HumanMessage(content=READ_AND_CALC.format(path=str(csv_path)))"
   ]
  },
  {
   "cell_type": "code",
   "execution_count": 8,
   "id": "f635f843",
   "metadata": {},
   "outputs": [],
   "source": [
    "resp = agent.invoke({\"messages\": [msg]}, config={\"recursion_limit\": 10, \"configurable\": {\"thread_id\": \"run-1\"}})"
   ]
  },
  {
   "cell_type": "code",
   "execution_count": 9,
   "id": "92ecdf16",
   "metadata": {},
   "outputs": [
    {
     "name": "stdout",
     "output_type": "stream",
     "text": [
      "\n",
      "=== RAW MESSAGES ===\n",
      "[0] human -> Read ONLY the first 5 rows from file in \n",
      "\n",
      "Path:/Users/yifanli/Github/model_doc_automation/inputs/dummy_options.csv\n",
      "\n",
      "using csv_loader tool. After the data is successfully read from the file, then calculate the Black-Scholes-Merton option price for each data point. Parse the data in as input for bsm_calculator. The input should follow format below: option_type: str, S: float, K: float, T: float, r: float, sigma: float. The output should be in a table format where each row is the option price for each row in the csv file. The output should also include a line chart that shows the relationship between stock price and option price for both call and put options. Use create_line_chart tool to create the line chart.\n",
      "[1] ai -> {\n",
      "  \"name\": \"csv_loader\",\n",
      "  \"arguments\": {\n",
      "    \"filepath\": \"/Users/yifanli/Github/model_doc_automation/inputs/dummy_options.csv\"\n",
      "  }\n",
      "}\n",
      "\n",
      "=== FINAL OUTPUT (best-effort) ===\n",
      "{\n",
      "  \"name\": \"csv_loader\",\n",
      "  \"arguments\": {\n",
      "    \"filepath\": \"/Users/yifanli/Github/model_doc_automation/inputs/dummy_options.csv\"\n",
      "  }\n",
      "}\n"
     ]
    }
   ],
   "source": [
    "print(\"\\n=== RAW MESSAGES ===\")\n",
    "for i, m in enumerate(resp[\"messages\"]):\n",
    "    role = m.type if hasattr(m, \"type\") else m.__class__.__name__\n",
    "    print(f\"[{i}] {role} -> {getattr(m, 'content', '')}\")\n",
    "\n",
    "print(\"\\n=== FINAL OUTPUT (best-effort) ===\")\n",
    "last = resp[\"messages\"][-1]\n",
    "print(getattr(last, \"content\", \"(no content)\"))"
   ]
  },
  {
   "cell_type": "code",
   "execution_count": null,
   "id": "750e0f69",
   "metadata": {},
   "outputs": [],
   "source": []
  }
 ],
 "metadata": {
  "kernelspec": {
   "display_name": "venv",
   "language": "python",
   "name": "python3"
  },
  "language_info": {
   "codemirror_mode": {
    "name": "ipython",
    "version": 3
   },
   "file_extension": ".py",
   "mimetype": "text/x-python",
   "name": "python",
   "nbconvert_exporter": "python",
   "pygments_lexer": "ipython3",
   "version": "3.12.9"
  }
 },
 "nbformat": 4,
 "nbformat_minor": 5
}
