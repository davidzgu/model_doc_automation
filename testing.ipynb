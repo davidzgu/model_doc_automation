{
 "cells": [
  {
   "cell_type": "code",
   "execution_count": 9,
   "id": "a9165628",
   "metadata": {},
   "outputs": [],
   "source": [
    "from langchain_anthropic import ChatAnthropic\n",
    "from langgraph.checkpoint.memory import MemorySaver\n",
    "from langgraph.prebuilt import create_react_agent\n",
    "from langchain_core.messages import HumanMessage\n",
    "import os\n"
   ]
  },
  {
   "cell_type": "code",
   "execution_count": 10,
   "id": "ade0f72c",
   "metadata": {},
   "outputs": [],
   "source": [
    "from bsm_utils import BSMUtils\n",
    "from langchain.tools import Tool\n",
    "import json\n",
    "from dotenv import load_dotenv"
   ]
  },
  {
   "cell_type": "code",
   "execution_count": 11,
   "id": "b4513c99",
   "metadata": {},
   "outputs": [
    {
     "name": "stdout",
     "output_type": "stream",
     "text": [
      "['BSMUtils', '__builtins__', '__cached__', '__doc__', '__file__', '__loader__', '__name__', '__package__', '__spec__', 'norm', 'np', 'pd', 'tool']\n"
     ]
    }
   ],
   "source": [
    "import bsm_utils\n",
    "print(dir(bsm_utils))"
   ]
  },
  {
   "cell_type": "code",
   "execution_count": 12,
   "id": "7186e438",
   "metadata": {},
   "outputs": [
    {
     "data": {
      "text/plain": [
       "True"
      ]
     },
     "execution_count": 12,
     "metadata": {},
     "output_type": "execute_result"
    }
   ],
   "source": [
    "load_dotenv()"
   ]
  },
  {
   "cell_type": "code",
   "execution_count": 13,
   "id": "91761e64",
   "metadata": {
    "lines_to_next_cell": 2
   },
   "outputs": [
    {
     "name": "stdout",
     "output_type": "stream",
     "text": [
      "{'messages': [HumanMessage(content='Calculates Black-Scholes-Merton option price. Inputs: Read the first 5 rows from [dummy_options.csv] using the CSV Reader tool.', additional_kwargs={}, response_metadata={}, id='f2132f53-3ec4-4072-809d-82bbea2bd045'), AIMessage(content=[{'text': 'Certainly! I\\'ll use the CSV_Reader tool to read the first 5 rows from the file \"dummy_options.csv\" and then use that information to calculate the Black-Scholes-Merton option price using the BSM_Calculator. Let\\'s start by reading the CSV file:', 'type': 'text'}, {'id': 'toolu_01KvQ8wLM2w5dwQtEmjDEDns', 'input': {'__arg1': '{\"filepath\": \"dummy_options.csv\", \"nrows\": 5}'}, 'name': 'CSV_Reader', 'type': 'tool_use'}], additional_kwargs={}, response_metadata={'id': 'msg_01B1KxGYrsNNVYt6VxZ7DWwB', 'model': 'claude-3-5-sonnet-20240620', 'stop_reason': 'tool_use', 'stop_sequence': None, 'usage': {'cache_creation': {'ephemeral_1h_input_tokens': 0, 'ephemeral_5m_input_tokens': 0}, 'cache_creation_input_tokens': 0, 'cache_read_input_tokens': 0, 'input_tokens': 516, 'output_tokens': 135, 'server_tool_use': None, 'service_tier': 'standard'}, 'model_name': 'claude-3-5-sonnet-20240620'}, id='run--bc5a87e9-9988-48a6-a1ab-94828e19325a-0', tool_calls=[{'name': 'CSV_Reader', 'args': {'__arg1': '{\"filepath\": \"dummy_options.csv\", \"nrows\": 5}'}, 'id': 'toolu_01KvQ8wLM2w5dwQtEmjDEDns', 'type': 'tool_call'}], usage_metadata={'input_tokens': 516, 'output_tokens': 135, 'total_tokens': 651, 'input_token_details': {'cache_read': 0, 'cache_creation': 0, 'ephemeral_5m_input_tokens': 0, 'ephemeral_1h_input_tokens': 0}}), ToolMessage(content='Error reading CSV: [Errno 2] No such file or directory: \\'{\"filepath\": \"dummy_options.csv\", \"nrows\": 5}\\'', name='CSV_Reader', id='a58a32bb-5bef-4aa5-a20c-3e83e827df45', tool_call_id='toolu_01KvQ8wLM2w5dwQtEmjDEDns'), AIMessage(content=[{'text': \"I apologize for the error. It seems the CSV_Reader function is expecting the parameters to be passed directly, not as a JSON object. Let's try again with the correct format:\", 'type': 'text'}, {'id': 'toolu_01FxJPdyULPhp3NqEsRHJrX2', 'input': {'__arg1': 'dummy_options.csv,5'}, 'name': 'CSV_Reader', 'type': 'tool_use'}], additional_kwargs={}, response_metadata={'id': 'msg_01Y6DsrCxDiDgtjb7RrrYxaj', 'model': 'claude-3-5-sonnet-20240620', 'stop_reason': 'tool_use', 'stop_sequence': None, 'usage': {'cache_creation': {'ephemeral_1h_input_tokens': 0, 'ephemeral_5m_input_tokens': 0}, 'cache_creation_input_tokens': 0, 'cache_read_input_tokens': 0, 'input_tokens': 696, 'output_tokens': 101, 'server_tool_use': None, 'service_tier': 'standard'}, 'model_name': 'claude-3-5-sonnet-20240620'}, id='run--7da822d8-7321-4b26-adb9-25eb64d22f84-0', tool_calls=[{'name': 'CSV_Reader', 'args': {'__arg1': 'dummy_options.csv,5'}, 'id': 'toolu_01FxJPdyULPhp3NqEsRHJrX2', 'type': 'tool_call'}], usage_metadata={'input_tokens': 696, 'output_tokens': 101, 'total_tokens': 797, 'input_token_details': {'cache_read': 0, 'cache_creation': 0, 'ephemeral_5m_input_tokens': 0, 'ephemeral_1h_input_tokens': 0}}), ToolMessage(content=\"Error reading CSV: [Errno 2] No such file or directory: 'dummy_options.csv,5'\", name='CSV_Reader', id='a01d8603-01eb-4d5e-a246-17e746709e54', tool_call_id='toolu_01FxJPdyULPhp3NqEsRHJrX2'), AIMessage(content='I apologize once again for the confusion. It appears that the file \"dummy_options.csv\" is not present in the current directory or the path is incorrect. Let me ask you for more information:\\n\\nCould you please confirm if the file \"dummy_options.csv\" exists and provide the correct file path if it\\'s different? Also, are you sure you want to read the first 5 rows, or would you like to start with reading all rows (by omitting the number of rows parameter)?\\n\\nOnce we have the correct file information, we can proceed with reading the CSV and then calculating the Black-Scholes-Merton option prices.', additional_kwargs={}, response_metadata={'id': 'msg_01RSNVJWscGFeDp812xRNQMr', 'model': 'claude-3-5-sonnet-20240620', 'stop_reason': 'end_turn', 'stop_sequence': None, 'usage': {'cache_creation': {'ephemeral_1h_input_tokens': 0, 'ephemeral_5m_input_tokens': 0}, 'cache_creation_input_tokens': 0, 'cache_read_input_tokens': 0, 'input_tokens': 834, 'output_tokens': 141, 'server_tool_use': None, 'service_tier': 'standard'}, 'model_name': 'claude-3-5-sonnet-20240620'}, id='run--989083d0-c2bf-40f6-ab26-691cecddce3d-0', usage_metadata={'input_tokens': 834, 'output_tokens': 141, 'total_tokens': 975, 'input_token_details': {'cache_read': 0, 'cache_creation': 0, 'ephemeral_5m_input_tokens': 0, 'ephemeral_1h_input_tokens': 0}})]}\n"
     ]
    }
   ],
   "source": [
    "bsm_tool = Tool(\n",
    "    name=\"BSM_Calculator\",\n",
    "    func=BSMUtils.black_scholes,\n",
    "    description=\"Calculates Black-Scholes-Merton option price. Inputs: option_type, S, K, T, r, sigma.\"\n",
    ")\n",
    "\n",
    "csv_reader_tool = Tool(\n",
    "    name=\"CSV_Reader\",\n",
    "    func=BSMUtils.read_csv_tool,\n",
    "    description=\"Reads a CSV file and returns the first few rows. Inputs: filepath (str), nrows (int, optional).\"\n",
    ")\n",
    "###Should we convert csv into json?###\n",
    "\n",
    "llm = ChatAnthropic(\n",
    "    api_key=os.getenv(\"ANTHROPIC_API_KEY\"),\n",
    "    model=\"claude-3-5-sonnet-20240620\", \n",
    ")\n",
    "\n",
    "# Create the agent\n",
    "memory = MemorySaver()\n",
    "tools = [bsm_tool, csv_reader_tool]\n",
    "agent_executor = create_react_agent(llm, tools, checkpointer=memory)\n",
    "\n",
    "inputs = {\"messages\": [HumanMessage(content=\"Calculates Black-Scholes-Merton option price. Inputs: Read the first 5 rows from [dummy_options.csv] using the CSV Reader tool.\")]}\n",
    "config = {\"configurable\": {\"thread_id\": \"thread_1\"}}\n",
    "# Run the agent with a prompt and thread_id\n",
    "response = agent_executor.invoke(inputs, config=config)\n",
    "\n",
    "print(response)"
   ]
  }
 ],
 "metadata": {
  "jupytext": {
   "cell_metadata_filter": "-all",
   "main_language": "python",
   "notebook_metadata_filter": "-all"
  },
  "kernelspec": {
   "display_name": "Python 3",
   "language": "python",
   "name": "python3"
  },
  "language_info": {
   "codemirror_mode": {
    "name": "ipython",
    "version": 3
   },
   "file_extension": ".py",
   "mimetype": "text/x-python",
   "name": "python",
   "nbconvert_exporter": "python",
   "pygments_lexer": "ipython3",
   "version": "3.13.5"
  }
 },
 "nbformat": 4,
 "nbformat_minor": 5
}
