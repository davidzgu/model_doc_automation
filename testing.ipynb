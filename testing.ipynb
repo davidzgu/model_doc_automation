{
 "cells": [
  {
   "cell_type": "code",
   "execution_count": 2,
   "id": "a9165628",
   "metadata": {},
   "outputs": [],
   "source": [
    "from langchain_anthropic import ChatAnthropic\n",
    "from langgraph.checkpoint.memory import MemorySaver\n",
    "from langgraph.prebuilt import create_react_agent\n",
    "from langchain.prompts import PromptTemplate\n",
    "from langchain.schema import HumanMessage\n",
    "import os\n"
   ]
  },
  {
   "cell_type": "code",
   "execution_count": 3,
   "id": "ade0f72c",
   "metadata": {},
   "outputs": [],
   "source": [
    "from bsm_utils import bsm_calculator, csv_loader, create_line_chart\n",
    "from langchain.tools import Tool\n",
    "import json\n",
    "from dotenv import load_dotenv"
   ]
  },
  {
   "cell_type": "code",
   "execution_count": 4,
   "id": "7186e438",
   "metadata": {},
   "outputs": [
    {
     "data": {
      "text/plain": [
       "True"
      ]
     },
     "execution_count": 4,
     "metadata": {},
     "output_type": "execute_result"
    }
   ],
   "source": [
    "load_dotenv()"
   ]
  },
  {
   "cell_type": "code",
   "execution_count": 5,
   "id": "91761e64",
   "metadata": {
    "lines_to_next_cell": 2
   },
   "outputs": [],
   "source": [
    "# bsm_tool = Tool(\n",
    "#     name=\"BSM_Calculator\",\n",
    "#     func=black_scholes,\n",
    "#     description=\"Calculates Black-Scholes-Merton option price. Inputs: option_type, S, K, T, r, sigma.\"\n",
    "# )\n",
    "\n",
    "# csv_reader_tool = Tool(\n",
    "#     name=\"CSV_Reader\",\n",
    "#     func=read_csv_tool,\n",
    "#     description=\"Reads a CSV file and returns the first few rows. Inputs: filepath (str), nrows (int, optional).\"\n",
    "# )\n",
    "###Should we convert csv into json?###\n",
    "\n",
    "llm = ChatAnthropic(\n",
    "    api_key=os.getenv(\"ANTHROPIC_API_KEY\"),\n",
    "    model=\"claude-3-5-sonnet-20240620\", \n",
    ")\n",
    "\n",
    "# prompt = ChatPromptTemplate.from_messages([\n",
    "#     (\"system\", \"You are a senior model developer in a bank. Your task is to draft sections of an ongoing performance assessment (OPA) report for a Black-Scholes option pricing model. Follow the OPA template and regulatory standards (SR11-7, ECB TRIM). Always use professional model development language, ensure logical flow.\"),\n",
    "#     (\"placeholder\", \"{chat_history}\"),\n",
    "#     (\"human\", \"{input}\"),\n",
    "#     (\"placeholder\", \"{agent_scratchpad}\")\n",
    "# ])\n",
    "\n",
    "\n",
    "\n",
    "# Create the agent\n",
    "tools = [bsm_calculator, csv_loader, create_line_chart]\n",
    "\n",
    "memory = MemorySaver()\n"
   ]
  },
  {
   "cell_type": "code",
   "execution_count": 6,
   "id": "5eeacf98",
   "metadata": {},
   "outputs": [
    {
     "name": "stdout",
     "output_type": "stream",
     "text": [
      "name='bsm_calculator' description=\"Calculates the Black-Scholes price for European call or put options.\\nThis function implements the Black-Scholes formula to compute the theoretical price of a European option\\n(either 'call' or 'put') given the current stock price, strike price, time to expiration, risk-free interest rate,\\nand volatility of the underlying asset.\\nArgs:\\n    option_type (str): Type of the option, either 'call' or 'put'.\\n    S (float): Current price of the underlying asset.\\n    K (float): Strike price of the option.\\n    T (float): Time to expiration in years.\\n    r (float): Risk-free interest rate (annualized).\\n    sigma (float): Volatility of the underlying asset (annualized standard deviation).\\nReturns:\\n    str: The calculated option price as a string.\\nRaises:\\n    ValueError: If option_type is not 'call' or 'put'.\\n# AI Agent Explanation:\\n# This function uses the Black-Scholes mathematical model to determine the fair price of a European option.\\n# It computes intermediate variables (d1 and d2) and applies the formula for either a call or put option.\\n# The result is returned as a string for further processing or display.\" args_schema=<class 'langchain_core.utils.pydantic.bsm_calculator'> func=<function bsm_calculator at 0x1075baca0>\n",
      "{'name': 'bsm_calculator', 'description': \"Calculates the Black-Scholes price for European call or put options.\\nThis function implements the Black-Scholes formula to compute the theoretical price of a European option\\n(either 'call' or 'put') given the current stock price, strike price, time to expiration, risk-free interest rate,\\nand volatility of the underlying asset.\\nArgs:\\n    option_type (str): Type of the option, either 'call' or 'put'.\\n    S (float): Current price of the underlying asset.\\n    K (float): Strike price of the option.\\n    T (float): Time to expiration in years.\\n    r (float): Risk-free interest rate (annualized).\\n    sigma (float): Volatility of the underlying asset (annualized standard deviation).\\nReturns:\\n    str: The calculated option price as a string.\\nRaises:\\n    ValueError: If option_type is not 'call' or 'put'.\\n# AI Agent Explanation:\\n# This function uses the Black-Scholes mathematical model to determine the fair price of a European option.\\n# It computes intermediate variables (d1 and d2) and applies the formula for either a call or put option.\\n# The result is returned as a string for further processing or display.\", 'args_schema': <class 'langchain_core.utils.pydantic.bsm_calculator'>, 'return_direct': False, 'verbose': False, 'callbacks': None, 'callback_manager': None, 'tags': None, 'metadata': None, 'handle_tool_error': False, 'handle_validation_error': False, 'response_format': 'content', 'func': <function bsm_calculator at 0x1075baca0>, 'coroutine': None}\n",
      "name='csv_loader' description='Reads a CSV file from the specified filepath and returns the first five rows in JSON format without the index. If an error occurs during reading,\\nreturns an error message.\\n\\nArgs:\\n    filepath (str): The path to the CSV file to be read.\\n\\nReturns:\\n    str: JSON string of the first five rows of the CSV file, or an error message.' args_schema=<class 'langchain_core.utils.pydantic.csv_loader'> func=<function csv_loader at 0x12de13e20>\n",
      "{'name': 'csv_loader', 'description': 'Reads a CSV file from the specified filepath and returns the first five rows in JSON format without the index. If an error occurs during reading,\\nreturns an error message.\\n\\nArgs:\\n    filepath (str): The path to the CSV file to be read.\\n\\nReturns:\\n    str: JSON string of the first five rows of the CSV file, or an error message.', 'args_schema': <class 'langchain_core.utils.pydantic.csv_loader'>, 'return_direct': False, 'verbose': False, 'callbacks': None, 'callback_manager': None, 'tags': None, 'metadata': None, 'handle_tool_error': False, 'handle_validation_error': False, 'response_format': 'content', 'func': <function csv_loader at 0x12de13e20>, 'coroutine': None}\n",
      "name='create_line_chart' description='Creates a line chart from provided data.\\nArgs:\\n    data_json (str): JSON string representing the data (e.g., \\'[{\"x\": 1, \"y\": 2}, {\"x\": 2, \"y\": 4}]\\').\\n    x_column (str): The name of the column to use for the x-axis.\\n    y_column (str): The name of the column to use for the y-axis.\\n    title (str): The title of the chart.\\n    x_label (str): The label for the x-axis.\\n    y_label (str): The label for the y-axis.\\nReturns:\\n    str: A message indicating the chart was created and saved (or a path to the image).' args_schema=<class 'langchain_core.utils.pydantic.create_line_chart'> func=<function create_line_chart at 0x12e80d1c0>\n",
      "{'name': 'create_line_chart', 'description': 'Creates a line chart from provided data.\\nArgs:\\n    data_json (str): JSON string representing the data (e.g., \\'[{\"x\": 1, \"y\": 2}, {\"x\": 2, \"y\": 4}]\\').\\n    x_column (str): The name of the column to use for the x-axis.\\n    y_column (str): The name of the column to use for the y-axis.\\n    title (str): The title of the chart.\\n    x_label (str): The label for the x-axis.\\n    y_label (str): The label for the y-axis.\\nReturns:\\n    str: A message indicating the chart was created and saved (or a path to the image).', 'args_schema': <class 'langchain_core.utils.pydantic.create_line_chart'>, 'return_direct': False, 'verbose': False, 'callbacks': None, 'callback_manager': None, 'tags': None, 'metadata': None, 'handle_tool_error': False, 'handle_validation_error': False, 'response_format': 'content', 'func': <function create_line_chart at 0x12e80d1c0>, 'coroutine': None}\n"
     ]
    }
   ],
   "source": [
    "for tool in tools:\n",
    "    print(tool)\n",
    "    print(tool.__dict__)"
   ]
  },
  {
   "cell_type": "code",
   "execution_count": 7,
   "id": "b85740ab",
   "metadata": {},
   "outputs": [
    {
     "name": "stdout",
     "output_type": "stream",
     "text": [
      "<class 'langgraph.checkpoint.memory.InMemorySaver'>\n",
      "{'serde': <langgraph.checkpoint.serde.jsonplus.JsonPlusSerializer object at 0x106fd67b0>, 'storage': defaultdict(<function InMemorySaver.__init__.<locals>.<lambda> at 0x12e858900>, {}), 'writes': defaultdict(<class 'dict'>, {}), 'blobs': defaultdict(None, {}), 'stack': <contextlib.ExitStack object at 0x12e7dd090>}\n"
     ]
    }
   ],
   "source": [
    "print(type(memory))\n",
    "print(memory.__dict__)"
   ]
  },
  {
   "cell_type": "code",
   "execution_count": 10,
   "id": "28620228",
   "metadata": {},
   "outputs": [
    {
     "name": "stdout",
     "output_type": "stream",
     "text": [
      "Testing: Calculating Black-Scholes price for a call option with S=100.0, K=105.0, T=1.0, r=0.05, sigma=0.2Testing: Calculating Black-Scholes price for a put option with S=102.0, K=106.0, T=0.9, r=0.045, sigma=0.19\n",
      "Testing: Calculating Black-Scholes price for a call option with S=101.0, K=107.0, T=0.7, r=0.047, sigma=0.18\n",
      "\n",
      "Testing: Calculating Black-Scholes price for a call option with S=98.0, K=104.0, T=0.8, r=0.048, sigma=0.21\n",
      "Testing: Calculating Black-Scholes price for a put option with S=99.0, K=103.0, T=0.6, r=0.046, sigma=0.22\n"
     ]
    },
    {
     "name": "stderr",
     "output_type": "stream",
     "text": [
      "/Users/davidgu/Documents/GenAI Projects/document_automation/model_doc_automation/bsm_utils.py:90: FutureWarning: Passing literal json to 'read_json' is deprecated and will be removed in a future version. To read from a literal string, wrap it in a 'StringIO' object.\n",
      "  data = pd.read_json(data_json)\n"
     ]
    },
    {
     "name": "stdout",
     "output_type": "stream",
     "text": [
      "I've created a line chart showing the relationship between stock price and option price for both call and put options. The chart has been saved as 'line_chart.png'.\n",
      "\n",
      "To summarize:\n",
      "\n",
      "1. We successfully read the first 5 rows from the CSV file at 'input/dummy_options.csv'.\n",
      "2. We calculated the Black-Scholes-Merton option prices for each data point using the bsm_calculator tool.\n",
      "3. We presented the results in a table format, showing all the input parameters and the calculated option prices.\n",
      "4. We created a line chart to visualize the relationship between stock price and option price for both call and put options.\n",
      "\n",
      "The line chart might not show a clear trend due to the limited data points and the mix of call and put options. For a more informative visualization, you might want to consider:\n",
      "\n",
      "1. Using more data points\n",
      "2. Separating call and put options into different series\n",
      "3. Normalizing other parameters (like strike price, time to expiry, etc.) to isolate the effect of stock price on option price\n",
      "\n",
      "Is there anything else you'd like me to explain or analyze regarding this options data?\n"
     ]
    },
    {
     "data": {
      "text/plain": [
       "'\\n10/07:\\nNext steps:\\n1) Generating testing results for sensi test, convergence test, etc. Similar to the tool defined for BSM calculator and CSV reader.\\n2) Update the prompt to include summary of testing results.\\n3) Format the output into a report structure (table and graph).\\n4) Output the report as a Word document or PDF.\\n'"
      ]
     },
     "execution_count": 10,
     "metadata": {},
     "output_type": "execute_result"
    }
   ],
   "source": [
    "agent = create_react_agent(llm, tools)\n",
    "#agent_executor = AgentExecutor(agent=agent, tools=tools, verbose=True)\n",
    "\n",
    "\n",
    "# Run the agent with a prompt and thread_id\n",
    "# response = agent.invoke({\n",
    "#     \"input\": \"Read the first 5 rows from file in path '/Users/davidgu/Documents/GenAI Projects/document_automation/model_doc_automation/dummy_options.csv' using the CSV_reader_tool. After the data is successfully read from the file, then use the data to calculate the Black-Scholes-Merton option price. Parse the data in as input for bsm_tool. The input should follow format below: option_type: str, S: float, K: float, T: float, r: float, sigma: float\",\n",
    "#     \"thread_id\": \"test_thread_1\"\n",
    "# })\n",
    "# print(response)\n",
    "\n",
    "prompt = PromptTemplate(\n",
    "    input_variables=[\"path\"],\n",
    "    template=\"Read ONLY the first 5 rows from file in \\n\\nPath:{path}\\n\\n using csv_loader tool. After the data is successfully read from the file, then calculate the Black-Scholes-Merton option price for each data point. Parse the data in as input for bsm_calculator. The input should follow format below: option_type: str, S: float, K: float, T: float, r: float, sigma: float. The output should be in a table formate where each row is the option price for each row in the csv file. The output should also include a line chart that shows the relationship between stock price and option price for both call and put options. Use create_line_chart tool to create the line chart. \"\n",
    "    )\n",
    "message = HumanMessage(content=prompt.format(path = \"input/dummy_options.csv\"))\n",
    "\n",
    "response = agent.invoke({\"messages\": [message]},  config={\"recursion_limit\": 10})\n",
    "print(response[\"messages\"][-1].content)\n",
    "\n",
    "\n",
    "\"\"\"\n",
    "10/07:\n",
    "Next steps:\n",
    "1) Generating testing results for sensi test, convergence test, etc. Similar to the tool defined for BSM calculator and CSV reader.\n",
    "2) Update the prompt to include summary of testing results.\n",
    "3) Format the output into a report structure (table and graph).\n",
    "4) Output the report as a Word document or PDF.\n",
    "\"\"\"\n",
    "\n",
    "\n"
   ]
  },
  {
   "cell_type": "code",
   "execution_count": null,
   "id": "f6859dc0",
   "metadata": {},
   "outputs": [
    {
     "data": {
      "text/html": [
       "<div>\n",
       "<style scoped>\n",
       "    .dataframe tbody tr th:only-of-type {\n",
       "        vertical-align: middle;\n",
       "    }\n",
       "\n",
       "    .dataframe tbody tr th {\n",
       "        vertical-align: top;\n",
       "    }\n",
       "\n",
       "    .dataframe thead th {\n",
       "        text-align: right;\n",
       "    }\n",
       "</style>\n",
       "<table border=\"1\" class=\"dataframe\">\n",
       "  <thead>\n",
       "    <tr style=\"text-align: right;\">\n",
       "      <th></th>\n",
       "      <th>date</th>\n",
       "      <th>S</th>\n",
       "      <th>K</th>\n",
       "      <th>T</th>\n",
       "      <th>r</th>\n",
       "      <th>sigma</th>\n",
       "      <th>option_type</th>\n",
       "    </tr>\n",
       "  </thead>\n",
       "  <tbody>\n",
       "    <tr>\n",
       "      <th>0</th>\n",
       "      <td>2025-09-01</td>\n",
       "      <td>100</td>\n",
       "      <td>105</td>\n",
       "      <td>1.0</td>\n",
       "      <td>0.050</td>\n",
       "      <td>0.20</td>\n",
       "      <td>call</td>\n",
       "    </tr>\n",
       "    <tr>\n",
       "      <th>1</th>\n",
       "      <td>2025-09-02</td>\n",
       "      <td>102</td>\n",
       "      <td>106</td>\n",
       "      <td>0.9</td>\n",
       "      <td>0.045</td>\n",
       "      <td>0.19</td>\n",
       "      <td>put</td>\n",
       "    </tr>\n",
       "    <tr>\n",
       "      <th>2</th>\n",
       "      <td>2025-09-03</td>\n",
       "      <td>98</td>\n",
       "      <td>104</td>\n",
       "      <td>0.8</td>\n",
       "      <td>0.048</td>\n",
       "      <td>0.21</td>\n",
       "      <td>call</td>\n",
       "    </tr>\n",
       "    <tr>\n",
       "      <th>3</th>\n",
       "      <td>2025-09-04</td>\n",
       "      <td>101</td>\n",
       "      <td>107</td>\n",
       "      <td>0.7</td>\n",
       "      <td>0.047</td>\n",
       "      <td>0.18</td>\n",
       "      <td>call</td>\n",
       "    </tr>\n",
       "    <tr>\n",
       "      <th>4</th>\n",
       "      <td>2025-09-05</td>\n",
       "      <td>99</td>\n",
       "      <td>103</td>\n",
       "      <td>0.6</td>\n",
       "      <td>0.046</td>\n",
       "      <td>0.22</td>\n",
       "      <td>put</td>\n",
       "    </tr>\n",
       "    <tr>\n",
       "      <th>5</th>\n",
       "      <td>2025-09-06</td>\n",
       "      <td>103</td>\n",
       "      <td>108</td>\n",
       "      <td>0.5</td>\n",
       "      <td>0.049</td>\n",
       "      <td>0.20</td>\n",
       "      <td>put</td>\n",
       "    </tr>\n",
       "    <tr>\n",
       "      <th>6</th>\n",
       "      <td>2025-09-07</td>\n",
       "      <td>97</td>\n",
       "      <td>102</td>\n",
       "      <td>0.4</td>\n",
       "      <td>0.044</td>\n",
       "      <td>0.23</td>\n",
       "      <td>call</td>\n",
       "    </tr>\n",
       "    <tr>\n",
       "      <th>7</th>\n",
       "      <td>2025-09-08</td>\n",
       "      <td>100</td>\n",
       "      <td>106</td>\n",
       "      <td>0.3</td>\n",
       "      <td>0.050</td>\n",
       "      <td>0.19</td>\n",
       "      <td>call</td>\n",
       "    </tr>\n",
       "    <tr>\n",
       "      <th>8</th>\n",
       "      <td>2025-09-09</td>\n",
       "      <td>104</td>\n",
       "      <td>109</td>\n",
       "      <td>0.2</td>\n",
       "      <td>0.045</td>\n",
       "      <td>0.21</td>\n",
       "      <td>put</td>\n",
       "    </tr>\n",
       "    <tr>\n",
       "      <th>9</th>\n",
       "      <td>2025-09-10</td>\n",
       "      <td>96</td>\n",
       "      <td>101</td>\n",
       "      <td>0.1</td>\n",
       "      <td>0.048</td>\n",
       "      <td>0.20</td>\n",
       "      <td>put</td>\n",
       "    </tr>\n",
       "  </tbody>\n",
       "</table>\n",
       "</div>"
      ],
      "text/plain": [
       "         date    S    K    T      r  sigma option_type\n",
       "0  2025-09-01  100  105  1.0  0.050   0.20        call\n",
       "1  2025-09-02  102  106  0.9  0.045   0.19         put\n",
       "2  2025-09-03   98  104  0.8  0.048   0.21        call\n",
       "3  2025-09-04  101  107  0.7  0.047   0.18        call\n",
       "4  2025-09-05   99  103  0.6  0.046   0.22         put\n",
       "5  2025-09-06  103  108  0.5  0.049   0.20         put\n",
       "6  2025-09-07   97  102  0.4  0.044   0.23        call\n",
       "7  2025-09-08  100  106  0.3  0.050   0.19        call\n",
       "8  2025-09-09  104  109  0.2  0.045   0.21         put\n",
       "9  2025-09-10   96  101  0.1  0.048   0.20         put"
      ]
     },
     "execution_count": 10,
     "metadata": {},
     "output_type": "execute_result"
    }
   ],
   "source": [
    "import pandas as pd\n",
    "\n",
    "pd.read_csv('/Users/davidgu/Documents/GenAI Projects/document_automation/model_doc_automation/dummy_options.csv')"
   ]
  }
 ],
 "metadata": {
  "jupytext": {
   "cell_metadata_filter": "-all",
   "main_language": "python",
   "notebook_metadata_filter": "-all"
  },
  "kernelspec": {
   "display_name": "Python 3",
   "language": "python",
   "name": "python3"
  },
  "language_info": {
   "codemirror_mode": {
    "name": "ipython",
    "version": 3
   },
   "file_extension": ".py",
   "mimetype": "text/x-python",
   "name": "python",
   "nbconvert_exporter": "python",
   "pygments_lexer": "ipython3",
   "version": "3.13.5"
  }
 },
 "nbformat": 4,
 "nbformat_minor": 5
}
