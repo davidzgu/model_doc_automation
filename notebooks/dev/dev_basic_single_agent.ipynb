{
 "cells": [
  {
   "cell_type": "code",
   "execution_count": 1,
   "id": "a9165628",
   "metadata": {},
   "outputs": [],
   "source": [
    "import importlib\n",
    "import sys\n",
    "from pathlib import Path\n",
    "\n",
    "from langchain_core.messages import HumanMessage, AIMessage, ToolMessage"
   ]
  },
  {
   "cell_type": "code",
   "execution_count": null,
   "id": "5198d424",
   "metadata": {},
   "outputs": [],
   "source": [
    "project_root = Path.cwd().parents[1]\n",
    "src_path = project_root / \"src\"\n",
    "sys.path.insert(0, str(project_root))"
   ]
  },
  {
   "cell_type": "code",
   "execution_count": 3,
   "id": "0601aec0",
   "metadata": {},
   "outputs": [],
   "source": [
    "from src.config import llm_config\n",
    "importlib.reload(llm_config)\n",
    "from src.config.llm_config import get_llm\n",
    "\n",
    "from src.agents.tools import basic_bsm_tools\n",
    "importlib.reload(basic_bsm_tools)\n",
    "from src.agents.tools.basic_bsm_tools import get_tools\n",
    "\n",
    "from src.agents.prompts import basic_prompts\n",
    "importlib.reload(basic_prompts)\n",
    "from src.agents.prompts.basic_prompts import READ_AND_CALC\n",
    "\n",
    "from src.agents.nodes import basic_agent\n",
    "importlib.reload(basic_agent)\n",
    "from src.agents.nodes.basic_agent import build_agent"
   ]
  },
  {
   "cell_type": "code",
   "execution_count": 4,
   "id": "d383893a",
   "metadata": {},
   "outputs": [],
   "source": [
    "llm = get_llm()\n",
    "tools = get_tools()\n",
    "agent = build_agent(llm, tools)"
   ]
  },
  {
   "cell_type": "code",
   "execution_count": 5,
   "id": "ade0f72c",
   "metadata": {},
   "outputs": [
    {
     "name": "stdout",
     "output_type": "stream",
     "text": [
      "\n",
      "================================================================================\n",
      "CSV path: /Users/yifanli/Github/model_doc_automation/inputs/dummy_options.csv\n",
      "================================================================================\n",
      "\n"
     ]
    }
   ],
   "source": [
    "csv_path = Path.cwd().parents[1] / \"inputs\" / \"dummy_options.csv\"\n",
    "print(f\"\\n{'='*80}\")\n",
    "print(f\"CSV path: {csv_path}\")\n",
    "print(f\"{'='*80}\\n\")"
   ]
  },
  {
   "cell_type": "code",
   "execution_count": 6,
   "id": "7186e438",
   "metadata": {},
   "outputs": [
    {
     "name": "stdout",
     "output_type": "stream",
     "text": [
      "Prompt:\n",
      "Read ONLY the first 5 rows from file in \n",
      "\n",
      "Path:/Users/yifanli/Github/model_doc_automation/inputs/dummy_options.csv\n",
      "\n",
      "using csv_loader tool. After the data is successfully read from the file, then calculate the Black-Scholes-Merton option price for ALL data points in ONE call. \n",
      "\n",
      "IMPORTANT: Use batch_bsm_calculator tool with the JSON data returned by csv_loader. DO NOT call bsm_calculator multiple times for each row. The batch_bsm_calculator will efficiently process all rows at once and return a formatted table.\n",
      "\n",
      "Expected workflow:\n",
      "1. Call csv_loader to read the CSV file\n",
      "2. Pass the JSON result directly to batch_bsm_calculator\n",
      "3. Display the markdown table returned by batch_bsm_calculator\n",
      "\n",
      "================================================================================\n",
      "\n"
     ]
    }
   ],
   "source": [
    "msg = HumanMessage(content=READ_AND_CALC.format(path=str(csv_path)))\n",
    "print(f\"Prompt:\\n{msg.content}\\n\")\n",
    "print(f\"{'='*80}\\n\")"
   ]
  },
  {
   "cell_type": "code",
   "execution_count": 7,
   "id": "bd66ff07",
   "metadata": {},
   "outputs": [],
   "source": [
    "resp = agent.invoke(\n",
    "    {\"messages\": [msg]},\n",
    "    config={\n",
    "        \"recursion_limit\": 10,\n",
    "        \"configurable\": {\"thread_id\": \"run-1\"}\n",
    "    }\n",
    ")"
   ]
  },
  {
   "cell_type": "code",
   "execution_count": 8,
   "id": "91761e64",
   "metadata": {
    "lines_to_next_cell": 2
   },
   "outputs": [
    {
     "name": "stdout",
     "output_type": "stream",
     "text": [
      "Step 1 - inputs:\n",
      "   Read ONLY the first 5 rows from file in \n",
      "\n",
      "Path:/Users/yifanli/Github/model_doc_automation/inputs/dummy_options.csv\n",
      "\n",
      "using csv_loader tool. After the data is successfully read from the file, then calcu...\n",
      "\n",
      "Step 2 - Agent decide tools used:\n",
      "   Tool name: csv_loader\n",
      "   Tool parameters: {'filepath': '/Users/yifanli/Github/model_doc_automation/inputs/dummy_options.csv'}\n",
      "\n",
      "Step 3 - outputs:\n",
      "   Tool name: csv_loader\n",
      "   Outputs: {\"date\":{\"0\":\"2025-09-01\",\"1\":\"2025-09-02\",\"2\":\"2025-09-03\",\"3\":\"2025-09-04\",\"4\":\"2025-09-05\"},\"S\":{\"0\":100,\"1\":102,\"2\":98,\"3\":101,\"4\":99},\"K\":{\"0\":105,\"1\":106,\"2\":104,\"3\":107,\"4\":103},\"T\":{\"0\":1.0,\"1\":0.9,\"2\":0.8,\"3\":0.7,\"4\":0.6},\"r\":{\"0\":0.05,\"1\":0.045,\"2\":0.048,\"3\":0.047,\"4\":0.046},\"sigma\":{\"0\":0...\n",
      "\n",
      "Step 4 - Agent decide tools used:\n",
      "   Tool name: batch_bsm_calculator\n",
      "   Tool parameters: {'csv_data': {'date': ['2025-09-01', '2025-09-02', '2025-09-03', '2025-09-04', '2025-09-05'], 'S': [100, 102, 98, 101, 99], 'K': [105, 106, 104, 107, 103], 'T': [1.0, 0.9, 0.8, 0.7, 0.6], 'r': [0.05, 0.045, 0.048, 0.047, 0.046], 'sigma': [0.2, 0.19, 0.21, 0.18, 0.22], 'option_type': ['call', 'put', 'call', 'call', 'put']}}\n",
      "\n",
      "Step 5 - outputs:\n",
      "   Tool name: batch_bsm_calculator\n",
      "   Outputs: ## Black-Scholes Option Pricing Results\n",
      "\n",
      "| date       |   S |   K |   T |     r |   sigma | option_type   |   BSM_Price |\n",
      "|:-----------|----:|----:|----:|------:|--------:|:--------------|------------:|\n",
      "| 2025-09-01 | 100 | 105 | 1   | 0.05  |    0.2  | call          |     8.02135 |\n",
      "| 2025-09-02 | 1...\n",
      "\n",
      "Step 6 - Agent outputs:\n",
      "   Here are the Black-Scholes-Merton option prices for each data point based on your input:\n",
      "\n",
      "## Black-Scholes Option Pricing Results\n",
      "\n",
      "| Date       | S   | K   | T   | r    | σ    | Option Type   | BSM Price |\n",
      "|------------|-----:|----:|----:|------:|------:|--------------|----------:|\n",
      "| 2025-09-01 | 100  | 105 | 1.0 | 0.05  | 0.2   | Call          | 8.02135   |\n",
      "| 2025-09-02 | 102  | 106 | 0.9 | 0.045 | 0.19  | Put           | 7.21424   |\n",
      "| 2025-09-03 | 98   | 104 | 0.8 | 0.048 | 0.21  | Call          | 6.41575   |\n",
      "| 2025-09-04 | 101  | 107 | 0.7 | 0.047 | 0.18  | Call          | 4.95296   |\n",
      "| 2025-09-05 | 99   | 103 | 0.6 | 0.046 | 0.22  | Put           | 7.3777    |\n",
      "\n",
      "These results provide the theoretical option prices for each row in your dataset, calculated using the Black-Scholes-Merton model.\n",
      "\n",
      "\n",
      "================================================================================\n",
      "Final outputs:\n",
      "================================================================================\n",
      "\n",
      "Here are the Black-Scholes-Merton option prices for each data point based on your input:\n",
      "\n",
      "## Black-Scholes Option Pricing Results\n",
      "\n",
      "| Date       | S   | K   | T   | r    | σ    | Option Type   | BSM Price |\n",
      "|------------|-----:|----:|----:|------:|------:|--------------|----------:|\n",
      "| 2025-09-01 | 100  | 105 | 1.0 | 0.05  | 0.2   | Call          | 8.02135   |\n",
      "| 2025-09-02 | 102  | 106 | 0.9 | 0.045 | 0.19  | Put           | 7.21424   |\n",
      "| 2025-09-03 | 98   | 104 | 0.8 | 0.048 | 0.21  | Call          | 6.41575   |\n",
      "| 2025-09-04 | 101  | 107 | 0.7 | 0.047 | 0.18  | Call          | 4.95296   |\n",
      "| 2025-09-05 | 99   | 103 | 0.6 | 0.046 | 0.22  | Put           | 7.3777    |\n",
      "\n",
      "These results provide the theoretical option prices for each row in your dataset, calculated using the Black-Scholes-Merton model.\n"
     ]
    }
   ],
   "source": [
    "step_num = 1\n",
    "for message in resp[\"messages\"]:\n",
    "    if isinstance(message, HumanMessage):\n",
    "        print(f\"Step {step_num} - inputs:\")\n",
    "        print(f\"   {message.content[:200]}...\" if len(message.content) > 200 else f\"   {message.content}\")\n",
    "        print()\n",
    "        step_num += 1\n",
    "\n",
    "    elif isinstance(message, AIMessage):\n",
    "        if hasattr(message, 'tool_calls') and message.tool_calls:\n",
    "            # Agent 决定调用工具\n",
    "            print(f\"Step {step_num} - Agent decide tools used:\")\n",
    "            for tool_call in message.tool_calls:\n",
    "                print(f\"   Tool name: {tool_call['name']}\")\n",
    "                print(f\"   Tool parameters: {tool_call['args']}\")\n",
    "            print()\n",
    "            step_num += 1\n",
    "        elif message.content:\n",
    "            print(f\"Step {step_num} - Agent outputs:\")\n",
    "            print(f\"   {message.content}\")\n",
    "            print()\n",
    "            step_num += 1\n",
    "\n",
    "    elif isinstance(message, ToolMessage):\n",
    "        print(f\"Step {step_num} - outputs:\")\n",
    "        print(f\"   Tool name: {message.name}\")\n",
    "        result_preview = message.content[:300] + \"...\" if len(message.content) > 300 else message.content\n",
    "        print(f\"   Outputs: {result_preview}\")\n",
    "        print()\n",
    "        step_num += 1\n",
    "\n",
    "print(f\"\\n{'='*80}\")\n",
    "print(f\"Final outputs:\")\n",
    "print(f\"{'='*80}\\n\")\n",
    "print(resp[\"messages\"][-1].content)"
   ]
  },
  {
   "cell_type": "code",
   "execution_count": null,
   "id": "17eb8acf",
   "metadata": {},
   "outputs": [],
   "source": []
  }
 ],
 "metadata": {
  "jupytext": {
   "cell_metadata_filter": "-all",
   "main_language": "python",
   "notebook_metadata_filter": "-all"
  },
  "kernelspec": {
   "display_name": "model_doc_automation",
   "language": "python",
   "name": "python3"
  },
  "language_info": {
   "codemirror_mode": {
    "name": "ipython",
    "version": 3
   },
   "file_extension": ".py",
   "mimetype": "text/x-python",
   "name": "python",
   "nbconvert_exporter": "python",
   "pygments_lexer": "ipython3",
   "version": "3.12.9"
  }
 },
 "nbformat": 4,
 "nbformat_minor": 5
}
