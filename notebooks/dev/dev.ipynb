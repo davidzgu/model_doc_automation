{
 "cells": [
  {
   "cell_type": "code",
   "execution_count": 4,
   "id": "2dfd888b",
   "metadata": {},
   "outputs": [],
   "source": [
    "import importlib\n",
    "from pathlib import Path\n",
    "import os"
   ]
  },
  {
   "cell_type": "code",
   "execution_count": 5,
   "id": "a25b861f",
   "metadata": {},
   "outputs": [],
   "source": [
    "# from langchain_core.messages import HumanMessage\n",
    "\n",
    "from src import llm\n",
    "importlib.reload(llm)\n",
    "from src.llm import get_llm\n",
    "\n",
    "# from src import tools\n",
    "# importlib.reload(tools)\n",
    "# from src.tools import get_tools\n",
    "\n",
    "# from src import prompts\n",
    "# importlib.reload(prompts)\n",
    "# from src.prompts import READ_AND_CALC\n",
    "\n",
    "# from src import agent\n",
    "# importlib.reload(agent)\n",
    "# from src.agent import build_agent"
   ]
  },
  {
   "cell_type": "code",
   "execution_count": 13,
   "id": "c0b45a5f",
   "metadata": {},
   "outputs": [
    {
     "name": "stdout",
     "output_type": "stream",
     "text": [
      "🔧 Initializing language model...\n"
     ]
    }
   ],
   "source": [
    "# Initialize LLM\n",
    "print(\"🔧 Initializing language model...\")\n",
    "llm = get_llm()"
   ]
  },
  {
   "cell_type": "code",
   "execution_count": 14,
   "id": "300e6ea8",
   "metadata": {},
   "outputs": [],
   "source": [
    "from src.multi_agent import workflow\n",
    "importlib.reload(workflow)\n",
    "from src.multi_agent.workflow import create_multi_agent_workflow, print_workflow_status"
   ]
  },
  {
   "cell_type": "code",
   "execution_count": 15,
   "id": "750e0f69",
   "metadata": {},
   "outputs": [
    {
     "name": "stdout",
     "output_type": "stream",
     "text": [
      "🔧 Building multi-agent workflow...\n"
     ]
    },
    {
     "ename": "ValueError",
     "evalue": "Missing required key(s) {'remaining_steps'} in state_schema",
     "output_type": "error",
     "traceback": [
      "\u001b[31m---------------------------------------------------------------------------\u001b[39m",
      "\u001b[31mValueError\u001b[39m                                Traceback (most recent call last)",
      "\u001b[36mCell\u001b[39m\u001b[36m \u001b[39m\u001b[32mIn[15]\u001b[39m\u001b[32m, line 2\u001b[39m\n\u001b[32m      1\u001b[39m \u001b[38;5;28mprint\u001b[39m(\u001b[33m\"\u001b[39m\u001b[33m🔧 Building multi-agent workflow...\u001b[39m\u001b[33m\"\u001b[39m)\n\u001b[32m----> \u001b[39m\u001b[32m2\u001b[39m workflow = \u001b[43mcreate_multi_agent_workflow\u001b[49m\u001b[43m(\u001b[49m\u001b[43mllm\u001b[49m\u001b[43m)\u001b[49m\n",
      "\u001b[36mFile \u001b[39m\u001b[32m~/Github/model_doc_automation/document-automation-app/src/multi_agent/workflow.py:34\u001b[39m, in \u001b[36mcreate_multi_agent_workflow\u001b[39m\u001b[34m(llm)\u001b[39m\n\u001b[32m     23\u001b[39m \u001b[38;5;250m\u001b[39m\u001b[33;03m\"\"\"\u001b[39;00m\n\u001b[32m     24\u001b[39m \u001b[33;03mCreate the complete 6-agent workflow using LangGraph StateGraph.\u001b[39;00m\n\u001b[32m     25\u001b[39m \n\u001b[32m   (...)\u001b[39m\u001b[32m     30\u001b[39m \u001b[33;03m    Compiled StateGraph ready for execution\u001b[39;00m\n\u001b[32m     31\u001b[39m \u001b[33;03m\"\"\"\u001b[39;00m\n\u001b[32m     33\u001b[39m \u001b[38;5;66;03m# Initialize all agents\u001b[39;00m\n\u001b[32m---> \u001b[39m\u001b[32m34\u001b[39m agent1 = \u001b[43mAgent1_DataLoader\u001b[49m\u001b[43m(\u001b[49m\u001b[43mllm\u001b[49m\u001b[43m)\u001b[49m\n\u001b[32m     35\u001b[39m agent2 = Agent2_Calculator(llm)\n\u001b[32m     36\u001b[39m agent3 = Agent3_Tester(llm)\n",
      "\u001b[36mFile \u001b[39m\u001b[32m~/Github/model_doc_automation/document-automation-app/src/multi_agent/agents.py:26\u001b[39m, in \u001b[36mAgent1_DataLoader.__init__\u001b[39m\u001b[34m(self, llm)\u001b[39m\n\u001b[32m     25\u001b[39m \u001b[38;5;28;01mdef\u001b[39;00m\u001b[38;5;250m \u001b[39m\u001b[34m__init__\u001b[39m(\u001b[38;5;28mself\u001b[39m, llm):\n\u001b[32m---> \u001b[39m\u001b[32m26\u001b[39m     \u001b[38;5;28mself\u001b[39m.agent = \u001b[43mcreate_react_agent\u001b[49m\u001b[43m(\u001b[49m\n\u001b[32m     27\u001b[39m \u001b[43m        \u001b[49m\u001b[43mmodel\u001b[49m\u001b[43m=\u001b[49m\u001b[43mllm\u001b[49m\u001b[43m,\u001b[49m\n\u001b[32m     28\u001b[39m \u001b[43m        \u001b[49m\u001b[43mtools\u001b[49m\u001b[43m=\u001b[49m\u001b[43mget_agent1_tools\u001b[49m\u001b[43m(\u001b[49m\u001b[43m)\u001b[49m\u001b[43m,\u001b[49m\n\u001b[32m     29\u001b[39m \u001b[43m        \u001b[49m\u001b[43mstate_schema\u001b[49m\u001b[43m=\u001b[49m\u001b[43mOptionAnalysisState\u001b[49m\n\u001b[32m     30\u001b[39m \u001b[43m    \u001b[49m\u001b[43m)\u001b[49m\n",
      "\u001b[36mFile \u001b[39m\u001b[32m~/Github/model_doc_automation/venv/lib/python3.12/site-packages/typing_extensions.py:3004\u001b[39m, in \u001b[36mdeprecated.__call__.<locals>.wrapper\u001b[39m\u001b[34m(*args, **kwargs)\u001b[39m\n\u001b[32m   3001\u001b[39m \u001b[38;5;129m@functools\u001b[39m.wraps(arg)\n\u001b[32m   3002\u001b[39m \u001b[38;5;28;01mdef\u001b[39;00m\u001b[38;5;250m \u001b[39m\u001b[34mwrapper\u001b[39m(*args, **kwargs):\n\u001b[32m   3003\u001b[39m     warnings.warn(msg, category=category, stacklevel=stacklevel + \u001b[32m1\u001b[39m)\n\u001b[32m-> \u001b[39m\u001b[32m3004\u001b[39m     \u001b[38;5;28;01mreturn\u001b[39;00m \u001b[43marg\u001b[49m\u001b[43m(\u001b[49m\u001b[43m*\u001b[49m\u001b[43margs\u001b[49m\u001b[43m,\u001b[49m\u001b[43m \u001b[49m\u001b[43m*\u001b[49m\u001b[43m*\u001b[49m\u001b[43mkwargs\u001b[49m\u001b[43m)\u001b[49m\n",
      "\u001b[36mFile \u001b[39m\u001b[32m~/Github/model_doc_automation/venv/lib/python3.12/site-packages/langgraph/prebuilt/chat_agent_executor.py:525\u001b[39m, in \u001b[36mcreate_react_agent\u001b[39m\u001b[34m(model, tools, prompt, response_format, pre_model_hook, post_model_hook, state_schema, context_schema, checkpointer, store, interrupt_before, interrupt_after, debug, version, name, **deprecated_kwargs)\u001b[39m\n\u001b[32m    523\u001b[39m     schema_keys = \u001b[38;5;28mset\u001b[39m(get_type_hints(state_schema))\n\u001b[32m    524\u001b[39m     \u001b[38;5;28;01mif\u001b[39;00m missing_keys := required_keys - \u001b[38;5;28mset\u001b[39m(schema_keys):\n\u001b[32m--> \u001b[39m\u001b[32m525\u001b[39m         \u001b[38;5;28;01mraise\u001b[39;00m \u001b[38;5;167;01mValueError\u001b[39;00m(\u001b[33mf\u001b[39m\u001b[33m\"\u001b[39m\u001b[33mMissing required key(s) \u001b[39m\u001b[38;5;132;01m{\u001b[39;00mmissing_keys\u001b[38;5;132;01m}\u001b[39;00m\u001b[33m in state_schema\u001b[39m\u001b[33m\"\u001b[39m)\n\u001b[32m    527\u001b[39m \u001b[38;5;28;01mif\u001b[39;00m state_schema \u001b[38;5;129;01mis\u001b[39;00m \u001b[38;5;28;01mNone\u001b[39;00m:\n\u001b[32m    528\u001b[39m     state_schema = (\n\u001b[32m    529\u001b[39m         AgentStateWithStructuredResponse\n\u001b[32m    530\u001b[39m         \u001b[38;5;28;01mif\u001b[39;00m response_format \u001b[38;5;129;01mis\u001b[39;00m \u001b[38;5;129;01mnot\u001b[39;00m \u001b[38;5;28;01mNone\u001b[39;00m\n\u001b[32m    531\u001b[39m         \u001b[38;5;28;01melse\u001b[39;00m AgentState\n\u001b[32m    532\u001b[39m     )\n",
      "\u001b[31mValueError\u001b[39m: Missing required key(s) {'remaining_steps'} in state_schema"
     ]
    }
   ],
   "source": [
    "print(\"🔧 Building multi-agent workflow...\")\n",
    "workflow = create_multi_agent_workflow(llm)"
   ]
  },
  {
   "cell_type": "code",
   "execution_count": null,
   "id": "56c8da91",
   "metadata": {},
   "outputs": [],
   "source": []
  }
 ],
 "metadata": {
  "kernelspec": {
   "display_name": "venv",
   "language": "python",
   "name": "python3"
  },
  "language_info": {
   "codemirror_mode": {
    "name": "ipython",
    "version": 3
   },
   "file_extension": ".py",
   "mimetype": "text/x-python",
   "name": "python",
   "nbconvert_exporter": "python",
   "pygments_lexer": "ipython3",
   "version": "3.12.9"
  }
 },
 "nbformat": 4,
 "nbformat_minor": 5
}
