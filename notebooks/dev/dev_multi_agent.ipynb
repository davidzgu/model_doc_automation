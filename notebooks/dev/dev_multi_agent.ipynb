{
 "cells": [
  {
   "cell_type": "code",
   "execution_count": 1,
   "id": "2dfd888b",
   "metadata": {},
   "outputs": [],
   "source": [
    "import importlib\n",
    "import sys\n",
    "from pathlib import Path\n",
    "import os\n",
    "import json"
   ]
  },
  {
   "cell_type": "code",
   "execution_count": 2,
   "id": "4587ece2",
   "metadata": {},
   "outputs": [],
   "source": [
    "project_root = Path.cwd().parents[1]\n",
    "src_path = project_root / \"src\"\n",
    "sys.path.insert(0, str(project_root))"
   ]
  },
  {
   "cell_type": "code",
   "execution_count": 3,
   "id": "7284e106",
   "metadata": {},
   "outputs": [],
   "source": [
    "from src.config import llm_config\n",
    "importlib.reload(llm_config)\n",
    "from src.config.llm_config import get_llm"
   ]
  },
  {
   "cell_type": "markdown",
   "id": "39d6fa75",
   "metadata": {},
   "source": [
    "## Test data loader"
   ]
  },
  {
   "cell_type": "code",
   "execution_count": null,
   "id": "a25b861f",
   "metadata": {},
   "outputs": [],
   "source": [
    "from src.agents.nodes import data_loader_agent\n",
    "importlib.reload(data_loader_agent)\n",
    "from src.agents.nodes.data_loader_agent import DataLoader"
   ]
  },
  {
   "cell_type": "code",
   "execution_count": 20,
   "id": "c0b45a5f",
   "metadata": {},
   "outputs": [
    {
     "name": "stdout",
     "output_type": "stream",
     "text": [
      "\n",
      "============================================================\n",
      "Testing Agent 1: Data Loader\n",
      "============================================================\n"
     ]
    }
   ],
   "source": [
    "print(\"\\n\" + \"=\"*60)\n",
    "print(\"Testing Agent 1: Data Loader\")\n",
    "print(\"=\"*60)"
   ]
  },
  {
   "cell_type": "code",
   "execution_count": 21,
   "id": "300e6ea8",
   "metadata": {},
   "outputs": [],
   "source": [
    "llm = get_llm()\n",
    "agent = DataLoader(llm)"
   ]
  },
  {
   "cell_type": "code",
   "execution_count": 22,
   "id": "750e0f69",
   "metadata": {},
   "outputs": [
    {
     "data": {
      "text/plain": [
       "'/Users/yifanli/Github/model_doc_automation/inputs/dummy_options.csv'"
      ]
     },
     "execution_count": 22,
     "metadata": {},
     "output_type": "execute_result"
    }
   ],
   "source": [
    "csv_path = os.path.join(project_root, 'inputs', 'dummy_options.csv')\n",
    "csv_path = os.path.abspath(csv_path)\n",
    "csv_path"
   ]
  },
  {
   "cell_type": "code",
   "execution_count": 23,
   "id": "56c8da91",
   "metadata": {},
   "outputs": [
    {
     "name": "stdout",
     "output_type": "stream",
     "text": [
      "\n",
      "Test CSV path: /Users/yifanli/Github/model_doc_automation/inputs/dummy_options.csv\n",
      "File exists: True\n"
     ]
    }
   ],
   "source": [
    "print(f\"\\nTest CSV path: {csv_path}\")\n",
    "print(f\"File exists: {os.path.exists(csv_path)}\")"
   ]
  },
  {
   "cell_type": "code",
   "execution_count": null,
   "id": "1e34731b",
   "metadata": {},
   "outputs": [
    {
     "name": "stdout",
     "output_type": "stream",
     "text": [
      "\n",
      "------------------------------------------------------------\n",
      "Running Data Loader Agent...\n",
      "------------------------------------------------------------\n"
     ]
    }
   ],
   "source": [
    "initial_state = {\n",
    "    \"messages\": [],\n",
    "    \"csv_file_path\": csv_path,\n",
    "    \"csv_data\": None,\n",
    "    \"data_loader_agent_status\": None,\n",
    "    \"calculation_results\": None,\n",
    "    \"greeks_data\": None,\n",
    "    \"calculator_agent_status\": None,\n",
    "    \"test_results\": None,\n",
    "    \"test_agent_status\": None,\n",
    "    \"summary_text\": None,\n",
    "    \"summarty_writer_agnet_status\": None,\n",
    "    \"charts\": None,\n",
    "    \"chart_descriptions\": None,\n",
    "    \"chart_generator_agent_status\": None,\n",
    "    \"final_report_path\": None,\n",
    "    \"final_report_html\": None,\n",
    "    \"report_assembler_agent_status\": None,\n",
    "    \"current_agent\": None,\n",
    "    \"workflow_status\": \"started\",\n",
    "    \"errors\": []\n",
    "}\n",
    "\n",
    "# Run agent\n",
    "print(\"\\n\" + \"-\"*60)\n",
    "print(\"Running Data Loader Agent...\")\n",
    "print(\"-\"*60)"
   ]
  },
  {
   "cell_type": "code",
   "execution_count": 25,
   "id": "76d880bc",
   "metadata": {},
   "outputs": [],
   "source": [
    "result = agent(initial_state)"
   ]
  },
  {
   "cell_type": "code",
   "execution_count": 27,
   "id": "a92df272",
   "metadata": {},
   "outputs": [
    {
     "name": "stdout",
     "output_type": "stream",
     "text": [
      "\n",
      "Agent execution completed!\n",
      "\n",
      "Agent Status: completed\n",
      "Current Agent: agent1\n",
      "Workflow Status: in_progress\n"
     ]
    }
   ],
   "source": [
    "print(\"\\nAgent execution completed!\")\n",
    "print(f\"\\nAgent Status: {result.get('agent1_status')}\")\n",
    "print(f\"Current Agent: {result.get('current_agent')}\")\n",
    "print(f\"Workflow Status: {result.get('workflow_status')}\")"
   ]
  },
  {
   "cell_type": "markdown",
   "id": "fe6b5f3f",
   "metadata": {},
   "source": [
    "## Test calculator"
   ]
  },
  {
   "cell_type": "code",
   "execution_count": 9,
   "id": "089f6077",
   "metadata": {},
   "outputs": [],
   "source": [
    "from src.agents.nodes import data_loader_agent\n",
    "importlib.reload(data_loader_agent)\n",
    "from src.agents.nodes.calculator_agent import Calculator"
   ]
  },
  {
   "cell_type": "code",
   "execution_count": 10,
   "id": "aa5c8004",
   "metadata": {},
   "outputs": [
    {
     "name": "stdout",
     "output_type": "stream",
     "text": [
      "\n",
      "============================================================\n",
      "Testing Agent 2: Calculator\n",
      "============================================================\n"
     ]
    }
   ],
   "source": [
    "print(\"\\n\" + \"=\"*60)\n",
    "print(\"Testing Agent 2: Calculator\")\n",
    "print(\"=\"*60)"
   ]
  },
  {
   "cell_type": "code",
   "execution_count": 11,
   "id": "e2a6f9b6",
   "metadata": {},
   "outputs": [],
   "source": [
    "llm = get_llm()\n",
    "agent = Calculator(llm)"
   ]
  },
  {
   "cell_type": "code",
   "execution_count": null,
   "id": "ac042bad",
   "metadata": {},
   "outputs": [
    {
     "name": "stdout",
     "output_type": "stream",
     "text": [
      "\n",
      "------------------------------------------------------------\n",
      "Running Calculator Agent...\n",
      "------------------------------------------------------------\n",
      "\n",
      "Input CSV Data:\n",
      "{\n",
      "  \"option_type\": {\n",
      "    \"0\": \"call\",\n",
      "    \"1\": \"put\"\n",
      "  },\n",
      "  \"S\": {\n",
      "    \"0\": 100.0,\n",
      "    \"1\": 105.0\n",
      "  },\n",
      "  \"K\": {\n",
      "    \"0\": 100.0,\n",
      "    \"1\": 100.0\n",
      "  },\n",
      "  \"T\": {\n",
      "    \"0\": 1.0,\n",
      "    \"1\": 0.5\n",
      "  },\n",
      "  \"r\": {\n",
      "    \"0\": 0.05,\n",
      "    \"1\": 0.05\n",
      "  },\n",
      "  \"sigma\": {\n",
      "    \"0\": 0.2,\n",
      "    \"1\": 0.25\n",
      "  }\n",
      "}\n"
     ]
    }
   ],
   "source": [
    "mock_csv_data = {\n",
    "        \"option_type\": {0: \"call\", 1: \"put\"},\n",
    "        \"S\": {0: 100.0, 1: 105.0},\n",
    "        \"K\": {0: 100.0, 1: 100.0},\n",
    "        \"T\": {0: 1.0, 1: 0.5},\n",
    "        \"r\": {0: 0.05, 1: 0.05},\n",
    "        \"sigma\": {0: 0.2, 1: 0.25}\n",
    "    }\n",
    "initial_state = {\n",
    "    \"messages\": [],\n",
    "    \"csv_file_path\": \"/inputs/dummy_options.csv\",\n",
    "    \"csv_data\": mock_csv_data,\n",
    "    \"data_loader_agent_status\": \"completed\",\n",
    "    \"calculation_results\": None,\n",
    "    \"greeks_data\": None,\n",
    "    \"calculator_agent_status\": None,\n",
    "    \"test_results\": None,\n",
    "    \"test_agent_status\": None,\n",
    "    \"summary_text\": None,\n",
    "    \"summarty_writer_agnet_status\": None,\n",
    "    \"charts\": None,\n",
    "    \"chart_descriptions\": None,\n",
    "    \"chart_generator_agent_status\": None,\n",
    "    \"final_report_path\": None,\n",
    "    \"final_report_html\": None,\n",
    "    \"report_assembler_agent_status\": None,\n",
    "    \"current_agent\": None,\n",
    "    \"workflow_status\": \"started\",\n",
    "    \"errors\": []\n",
    "}\n",
    "\n",
    "# Run agent\n",
    "print(\"\\n\" + \"-\"*60)\n",
    "print(\"Running Calculator Agent...\")\n",
    "print(\"-\"*60)\n",
    "print(f\"\\nInput CSV Data:\")\n",
    "print(json.dumps(mock_csv_data, indent=2))"
   ]
  },
  {
   "cell_type": "code",
   "execution_count": 13,
   "id": "02165bd8",
   "metadata": {},
   "outputs": [
    {
     "name": "stdout",
     "output_type": "stream",
     "text": [
      "Testing: Running sensitivity test for call with base S=100.0, K=100.0, T=1.0, r=0.05, sigma=0.2\n",
      "\n",
      "Agent execution completed!\n",
      "\n",
      "Agent Status: completed\n",
      "Current Agent: calculator\n",
      "Workflow Status: in_progress\n"
     ]
    }
   ],
   "source": [
    "result = agent(initial_state)\n",
    "\n",
    "print(\"\\nAgent execution completed!\")\n",
    "print(f\"\\nAgent Status: {result.get('calculator_agent_status')}\")\n",
    "print(f\"Current Agent: {result.get('current_agent')}\")\n",
    "print(f\"Workflow Status: {result.get('workflow_status')}\")"
   ]
  },
  {
   "cell_type": "markdown",
   "id": "dbaa956f",
   "metadata": {},
   "source": [
    "## Test testor"
   ]
  },
  {
   "cell_type": "code",
   "execution_count": 4,
   "id": "a6969a3c",
   "metadata": {},
   "outputs": [],
   "source": [
    "from src.agents.nodes import tester_agent\n",
    "importlib.reload(tester_agent)\n",
    "from src.agents.nodes.tester_agent import Tester"
   ]
  },
  {
   "cell_type": "code",
   "execution_count": 5,
   "id": "ef57fdf4",
   "metadata": {},
   "outputs": [
    {
     "name": "stdout",
     "output_type": "stream",
     "text": [
      "\n",
      "============================================================\n",
      "Testing Agent 3: Tester (Test Agent)\n",
      "============================================================\n"
     ]
    }
   ],
   "source": [
    "print(\"\\n\" + \"=\"*60)\n",
    "print(\"Testing Agent 3: Tester (Test Agent)\")\n",
    "print(\"=\"*60)"
   ]
  },
  {
   "cell_type": "code",
   "execution_count": 16,
   "id": "cb946476",
   "metadata": {},
   "outputs": [],
   "source": [
    "llm = get_llm()\n",
    "agent = Tester(llm)"
   ]
  },
  {
   "cell_type": "code",
   "execution_count": 7,
   "id": "4f5e5fc4",
   "metadata": {},
   "outputs": [],
   "source": [
    "mock_csv_data = {\n",
    "    \"option_type\": {0: \"call\", 1: \"put\"},\n",
    "    \"S\": {0: 100.0, 1: 105.0},\n",
    "    \"K\": {0: 100.0, 1: 100.0},\n",
    "    \"T\": {0: 1.0, 1: 0.5},\n",
    "    \"r\": {0: 0.05, 1: 0.05},\n",
    "    \"sigma\": {0: 0.2, 1: 0.25}\n",
    "}\n",
    "\n",
    "mock_calculation_results = \"\"\"\n",
    "| option_type | S     | K     | price   | delta | gamma | vega  |\n",
    "|-------------|-------|-------|---------|-------|-------|-------|\n",
    "| call        | 100.0 | 100.0 | 10.45   | 0.637 | 0.019 | 39.70 |\n",
    "| put         | 105.0 | 100.0 | 3.15    | -0.245| 0.021 | 28.43 |\n",
    "\"\"\"\n"
   ]
  },
  {
   "cell_type": "code",
   "execution_count": 8,
   "id": "38d3595e",
   "metadata": {},
   "outputs": [
    {
     "name": "stdout",
     "output_type": "stream",
     "text": [
      "\n",
      "------------------------------------------------------------\n",
      "Running Test Agent...\n",
      "------------------------------------------------------------\n",
      "\n",
      "This agent will execute actual pytest test functions:\n",
      "  - test_greeks_call_basic\n",
      "  - test_greeks_put_call_parity\n",
      "  - test_sensitivity_length_and_fields\n"
     ]
    }
   ],
   "source": [
    "initial_state = {\n",
    "    \"messages\": [],\n",
    "    \"csv_file_path\": \"/inputs/dummy_options.csv\",\n",
    "    \"csv_data\": mock_csv_data,\n",
    "    \"data_loader_agent_status\": \"completed\",\n",
    "    \"calculation_results\": mock_calculation_results,\n",
    "    \"greeks_data\": None,\n",
    "    \"sensitivity_data\": None,\n",
    "    \"calculator_agent_status\": \"completed\",\n",
    "    \"test_results\": None,\n",
    "    \"tester_agent_status\": None,\n",
    "    \"summary_text\": None,\n",
    "    \"summarty_writer_agnet_status\": None,\n",
    "    \"charts\": None,\n",
    "    \"chart_descriptions\": None,\n",
    "    \"chart_generator_agent_status\": None,\n",
    "    \"final_report_path\": None,\n",
    "    \"final_report_html\": None,\n",
    "    \"report_assembler_agent_status\": None,\n",
    "    \"current_agent\": \"agent2\",\n",
    "    \"workflow_status\": \"in_progress\",\n",
    "    \"errors\": []\n",
    "}\n",
    "print(\"\\n\" + \"-\"*60)\n",
    "print(\"Running Test Agent...\")\n",
    "print(\"-\"*60)\n",
    "print(\"\\nThis agent will execute actual pytest test functions:\")\n",
    "print(\"  - test_greeks_call_basic\")\n",
    "print(\"  - test_greeks_put_call_parity\")\n",
    "print(\"  - test_sensitivity_length_and_fields\")"
   ]
  },
  {
   "cell_type": "code",
   "execution_count": 9,
   "id": "e25b415c",
   "metadata": {},
   "outputs": [
    {
     "name": "stdout",
     "output_type": "stream",
     "text": [
      "\n",
      "Agent execution completed!\n",
      "\n",
      "Agent Status: error\n",
      "Current Agent: tester\n",
      "Workflow Status: None\n"
     ]
    }
   ],
   "source": [
    "result = agent(initial_state)\n",
    "\n",
    "print(\"\\nAgent execution completed!\")\n",
    "print(f\"\\nAgent Status: {result.get('tester_agent_status')}\")\n",
    "print(f\"Current Agent: {result.get('current_agent')}\")\n",
    "print(f\"Workflow Status: {result.get('workflow_status')}\")"
   ]
  },
  {
   "cell_type": "code",
   "execution_count": 11,
   "id": "803282bf",
   "metadata": {},
   "outputs": [],
   "source": [
    "state = initial_state\n",
    "csv_data = state.get(\"csv_data\")"
   ]
  },
  {
   "cell_type": "code",
   "execution_count": 12,
   "id": "ae275f43",
   "metadata": {},
   "outputs": [
    {
     "data": {
      "text/plain": [
       "{'option_type': {0: 'call', 1: 'put'},\n",
       " 'S': {0: 100.0, 1: 105.0},\n",
       " 'K': {0: 100.0, 1: 100.0},\n",
       " 'T': {0: 1.0, 1: 0.5},\n",
       " 'r': {0: 0.05, 1: 0.05},\n",
       " 'sigma': {0: 0.2, 1: 0.25}}"
      ]
     },
     "execution_count": 12,
     "metadata": {},
     "output_type": "execute_result"
    }
   ],
   "source": [
    "csv_data"
   ]
  },
  {
   "cell_type": "code",
   "execution_count": 14,
   "id": "27bd8056",
   "metadata": {},
   "outputs": [],
   "source": [
    "from langchain_core.messages import HumanMessage\n",
    "\n",
    "task_message = HumanMessage(content=f\"\"\"\n",
    "Run validation tests on the option calculations.\n",
    "\n",
    "Execute the following tests from src/core:\n",
    "1. run_greeks_validation_test - runs actual pytest functions:\n",
    "   - test_greeks_call_basic: validates basic Greeks calculation (delta in [0,1], price > 0)\n",
    "   - test_greeks_put_call_parity: validates put-call parity relationship\n",
    "\n",
    "2. run_sensitivity_analysis_test - runs actual pytest function:\n",
    "   - test_sensitivity_length_and_fields: validates sensitivity analysis returns 11 data points with all required fields\n",
    "\n",
    "These tools wrap the actual test functions from test_greeks.py and test_sensitivity.py.\n",
    "\n",
    "Report the test results including pass/fail status for each test.\n",
    "\"\"\")"
   ]
  },
  {
   "cell_type": "code",
   "execution_count": 18,
   "id": "22b8f6ef",
   "metadata": {},
   "outputs": [],
   "source": [
    "result = agent.agent.invoke({\n",
    "    **state,\n",
    "    \"messages\": [task_message]\n",
    "})"
   ]
  },
  {
   "cell_type": "code",
   "execution_count": 19,
   "id": "b61d0ac5",
   "metadata": {},
   "outputs": [
    {
     "data": {
      "text/plain": [
       "[HumanMessage(content='\\nRun validation tests on the option calculations.\\n\\nExecute the following tests from src/core:\\n1. run_greeks_validation_test - runs actual pytest functions:\\n   - test_greeks_call_basic: validates basic Greeks calculation (delta in [0,1], price > 0)\\n   - test_greeks_put_call_parity: validates put-call parity relationship\\n\\n2. run_sensitivity_analysis_test - runs actual pytest function:\\n   - test_sensitivity_length_and_fields: validates sensitivity analysis returns 11 data points with all required fields\\n\\nThese tools wrap the actual test functions from test_greeks.py and test_sensitivity.py.\\n\\nReport the test results including pass/fail status for each test.\\n', additional_kwargs={}, response_metadata={}, id='e261a339-19d3-4c54-b478-3fca2ff8a48d'),\n",
       " AIMessage(content='', additional_kwargs={}, response_metadata={'model': 'qwen2.5:7b', 'created_at': '2025-10-28T19:47:26.227307Z', 'done': True, 'done_reason': 'stop', 'total_duration': 953052958, 'load_duration': 76477375, 'prompt_eval_count': 566, 'prompt_eval_duration': 31116500, 'eval_count': 39, 'eval_duration': 831293497, 'model_name': 'qwen2.5:7b', 'model_provider': 'ollama'}, id='lc_run--44fa5003-429c-4115-b73f-938e6b5a8bf1-0', tool_calls=[{'name': 'run_greeks_validation_test', 'args': {}, 'id': '7fc2aa87-9a0f-496d-b646-ac5f98156599', 'type': 'tool_call'}, {'name': 'run_sensitivity_analysis_test', 'args': {}, 'id': 'd02f668a-ea79-40ed-b6b1-cad7ead0924d', 'type': 'tool_call'}], usage_metadata={'input_tokens': 566, 'output_tokens': 39, 'total_tokens': 605}),\n",
       " ToolMessage(content='{\\n  \"status\": \"failed\",\\n  \"tests_run\": 2,\\n  \"tests_passed\": 0,\\n  \"details\": [\\n    {\\n      \"test\": \"test_greeks_call_basic\",\\n      \"status\": \"error\",\\n      \"message\": \"Error: \\'StructuredTool\\' object is not callable\"\\n    },\\n    {\\n      \"test\": \"test_greeks_put_call_parity\",\\n      \"status\": \"error\",\\n      \"message\": \"Error: \\'StructuredTool\\' object is not callable\"\\n    }\\n  ]\\n}', name='run_greeks_validation_test', id='38e3ea3f-9441-4620-b694-78eb020a8e43', tool_call_id='7fc2aa87-9a0f-496d-b646-ac5f98156599'),\n",
       " ToolMessage(content='{\\n  \"status\": \"failed\",\\n  \"tests_run\": 1,\\n  \"tests_passed\": 0,\\n  \"details\": [\\n    {\\n      \"test\": \"test_sensitivity_length_and_fields\",\\n      \"status\": \"error\",\\n      \"message\": \"Error: \\'StructuredTool\\' object is not callable\"\\n    }\\n  ]\\n}', name='run_sensitivity_analysis_test', id='a0f90b31-3de1-41e9-adf9-2f94ec433595', tool_call_id='d02f668a-ea79-40ed-b6b1-cad7ead0924d'),\n",
       " AIMessage(content='Based on the test results, both sets of tests have failed. Here are the details:\\n\\n1. **Greeks Validation Tests (`run_greeks_validation_test`)**:\\n   - Test `test_greeks_call_basic`: The test encountered an error with the message \"Error: \\'StructuredTool\\' object is not callable.\"\\n   - Test `test_greeks_put_call_parity`: Similarly, this test also failed with the same error message.\\n\\n2. **Sensitivity Analysis Tests (`run_sensitivity_analysis_test`)**:\\n   - Test `test_sensitivity_length_and_fields`: This test failed with an error indicating that \"\\'StructuredTool\\' object is not callable.\"\\n\\nIt seems there might be an issue with how the tests are being executed or possibly a problem within the codebase itself, as it\\'s throwing errors related to `\\'StructuredTool\\'` not being callable. \\n\\nWould you like me to investigate further or attempt to run these tests again?', additional_kwargs={}, response_metadata={'model': 'qwen2.5:7b', 'created_at': '2025-10-28T19:47:32.237182Z', 'done': True, 'done_reason': 'stop', 'total_duration': 6001517833, 'load_duration': 39476666, 'prompt_eval_count': 814, 'prompt_eval_duration': 1689651750, 'eval_count': 193, 'eval_duration': 4212503784, 'model_name': 'qwen2.5:7b', 'model_provider': 'ollama'}, id='lc_run--2b2b7c3f-2866-4e69-a088-0634d9e7f3d4-0', usage_metadata={'input_tokens': 814, 'output_tokens': 193, 'total_tokens': 1007})]"
      ]
     },
     "execution_count": 19,
     "metadata": {},
     "output_type": "execute_result"
    }
   ],
   "source": [
    "result.get(\"messages\", [])"
   ]
  },
  {
   "cell_type": "code",
   "execution_count": 21,
   "id": "da34b1c8",
   "metadata": {},
   "outputs": [],
   "source": [
    "from src.core.test_greeks import test_greeks_call_basic, test_greeks_put_call_parity\n",
    "from src.core.bsm_calculator import greeks_calculator"
   ]
  },
  {
   "cell_type": "code",
   "execution_count": null,
   "id": "97fe6c8e",
   "metadata": {},
   "outputs": [],
   "source": []
  }
 ],
 "metadata": {
  "kernelspec": {
   "display_name": "model_doc_automation",
   "language": "python",
   "name": "python3"
  },
  "language_info": {
   "codemirror_mode": {
    "name": "ipython",
    "version": 3
   },
   "file_extension": ".py",
   "mimetype": "text/x-python",
   "name": "python",
   "nbconvert_exporter": "python",
   "pygments_lexer": "ipython3",
   "version": "3.12.9"
  }
 },
 "nbformat": 4,
 "nbformat_minor": 5
}
