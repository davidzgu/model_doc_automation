{
 "cells": [
  {
   "cell_type": "code",
   "execution_count": 17,
   "id": "2dfd888b",
   "metadata": {},
   "outputs": [],
   "source": [
    "import importlib\n",
    "import sys\n",
    "from pathlib import Path\n",
    "import os\n",
    "import json\n",
    "import pandas as pd\n",
    "import numpy as np"
   ]
  },
  {
   "cell_type": "code",
   "execution_count": 5,
   "id": "4587ece2",
   "metadata": {},
   "outputs": [],
   "source": [
    "project_root = Path.cwd().parents[1]\n",
    "src_path = project_root / \"src\"\n",
    "sys.path.insert(0, str(project_root))"
   ]
  },
  {
   "cell_type": "code",
   "execution_count": 3,
   "id": "7284e106",
   "metadata": {},
   "outputs": [],
   "source": [
    "from src.config import llm_config\n",
    "importlib.reload(llm_config)\n",
    "from src.config.llm_config import get_llm"
   ]
  },
  {
   "cell_type": "markdown",
   "id": "39d6fa75",
   "metadata": {},
   "source": [
    "## Test data loader"
   ]
  },
  {
   "cell_type": "code",
   "execution_count": null,
   "id": "a25b861f",
   "metadata": {},
   "outputs": [],
   "source": [
    "from src.agents.nodes import data_loader_agent\n",
    "importlib.reload(data_loader_agent)\n",
    "from src.agents.nodes.data_loader_agent import DataLoader"
   ]
  },
  {
   "cell_type": "code",
   "execution_count": 20,
   "id": "c0b45a5f",
   "metadata": {},
   "outputs": [
    {
     "name": "stdout",
     "output_type": "stream",
     "text": [
      "\n",
      "============================================================\n",
      "Testing Agent 1: Data Loader\n",
      "============================================================\n"
     ]
    }
   ],
   "source": [
    "print(\"\\n\" + \"=\"*60)\n",
    "print(\"Testing Agent 1: Data Loader\")\n",
    "print(\"=\"*60)"
   ]
  },
  {
   "cell_type": "code",
   "execution_count": 21,
   "id": "300e6ea8",
   "metadata": {},
   "outputs": [],
   "source": [
    "llm = get_llm()\n",
    "agent = DataLoader(llm)"
   ]
  },
  {
   "cell_type": "code",
   "execution_count": 22,
   "id": "750e0f69",
   "metadata": {},
   "outputs": [
    {
     "data": {
      "text/plain": [
       "'/Users/yifanli/Github/model_doc_automation/inputs/dummy_options.csv'"
      ]
     },
     "execution_count": 22,
     "metadata": {},
     "output_type": "execute_result"
    }
   ],
   "source": [
    "csv_path = os.path.join(project_root, 'inputs', 'dummy_options.csv')\n",
    "csv_path = os.path.abspath(csv_path)\n",
    "csv_path"
   ]
  },
  {
   "cell_type": "code",
   "execution_count": 23,
   "id": "56c8da91",
   "metadata": {},
   "outputs": [
    {
     "name": "stdout",
     "output_type": "stream",
     "text": [
      "\n",
      "Test CSV path: /Users/yifanli/Github/model_doc_automation/inputs/dummy_options.csv\n",
      "File exists: True\n"
     ]
    }
   ],
   "source": [
    "print(f\"\\nTest CSV path: {csv_path}\")\n",
    "print(f\"File exists: {os.path.exists(csv_path)}\")"
   ]
  },
  {
   "cell_type": "code",
   "execution_count": null,
   "id": "1e34731b",
   "metadata": {},
   "outputs": [
    {
     "name": "stdout",
     "output_type": "stream",
     "text": [
      "\n",
      "------------------------------------------------------------\n",
      "Running Data Loader Agent...\n",
      "------------------------------------------------------------\n"
     ]
    }
   ],
   "source": [
    "initial_state = {\n",
    "    \"messages\": [],\n",
    "    \"csv_file_path\": csv_path,\n",
    "    \"csv_data\": None,\n",
    "    \"data_loader_agent_status\": None,\n",
    "    \"calculation_results\": None,\n",
    "    \"greeks_data\": None,\n",
    "    \"calculator_agent_status\": None,\n",
    "    \"test_results\": None,\n",
    "    \"test_agent_status\": None,\n",
    "    \"summary_text\": None,\n",
    "    \"summarty_writer_agnet_status\": None,\n",
    "    \"charts\": None,\n",
    "    \"chart_descriptions\": None,\n",
    "    \"chart_generator_agent_status\": None,\n",
    "    \"final_report_path\": None,\n",
    "    \"final_report_html\": None,\n",
    "    \"report_assembler_agent_status\": None,\n",
    "    \"current_agent\": None,\n",
    "    \"workflow_status\": \"started\",\n",
    "    \"errors\": []\n",
    "}\n",
    "\n",
    "# Run agent\n",
    "print(\"\\n\" + \"-\"*60)\n",
    "print(\"Running Data Loader Agent...\")\n",
    "print(\"-\"*60)"
   ]
  },
  {
   "cell_type": "code",
   "execution_count": 25,
   "id": "76d880bc",
   "metadata": {},
   "outputs": [],
   "source": [
    "result = agent(initial_state)"
   ]
  },
  {
   "cell_type": "code",
   "execution_count": 27,
   "id": "a92df272",
   "metadata": {},
   "outputs": [
    {
     "name": "stdout",
     "output_type": "stream",
     "text": [
      "\n",
      "Agent execution completed!\n",
      "\n",
      "Agent Status: completed\n",
      "Current Agent: agent1\n",
      "Workflow Status: in_progress\n"
     ]
    }
   ],
   "source": [
    "print(\"\\nAgent execution completed!\")\n",
    "print(f\"\\nAgent Status: {result.get('agent1_status')}\")\n",
    "print(f\"Current Agent: {result.get('current_agent')}\")\n",
    "print(f\"Workflow Status: {result.get('workflow_status')}\")"
   ]
  },
  {
   "cell_type": "markdown",
   "id": "fe6b5f3f",
   "metadata": {},
   "source": [
    "## Test calculator"
   ]
  },
  {
   "cell_type": "code",
   "execution_count": 9,
   "id": "089f6077",
   "metadata": {},
   "outputs": [],
   "source": [
    "from src.agents.nodes import data_loader_agent\n",
    "importlib.reload(data_loader_agent)\n",
    "from src.agents.nodes.calculator_agent import Calculator"
   ]
  },
  {
   "cell_type": "code",
   "execution_count": 10,
   "id": "aa5c8004",
   "metadata": {},
   "outputs": [
    {
     "name": "stdout",
     "output_type": "stream",
     "text": [
      "\n",
      "============================================================\n",
      "Testing Agent 2: Calculator\n",
      "============================================================\n"
     ]
    }
   ],
   "source": [
    "print(\"\\n\" + \"=\"*60)\n",
    "print(\"Testing Agent 2: Calculator\")\n",
    "print(\"=\"*60)"
   ]
  },
  {
   "cell_type": "code",
   "execution_count": 11,
   "id": "e2a6f9b6",
   "metadata": {},
   "outputs": [],
   "source": [
    "llm = get_llm()\n",
    "agent = Calculator(llm)"
   ]
  },
  {
   "cell_type": "code",
   "execution_count": null,
   "id": "ac042bad",
   "metadata": {},
   "outputs": [
    {
     "name": "stdout",
     "output_type": "stream",
     "text": [
      "\n",
      "------------------------------------------------------------\n",
      "Running Calculator Agent...\n",
      "------------------------------------------------------------\n",
      "\n",
      "Input CSV Data:\n",
      "{\n",
      "  \"option_type\": {\n",
      "    \"0\": \"call\",\n",
      "    \"1\": \"put\"\n",
      "  },\n",
      "  \"S\": {\n",
      "    \"0\": 100.0,\n",
      "    \"1\": 105.0\n",
      "  },\n",
      "  \"K\": {\n",
      "    \"0\": 100.0,\n",
      "    \"1\": 100.0\n",
      "  },\n",
      "  \"T\": {\n",
      "    \"0\": 1.0,\n",
      "    \"1\": 0.5\n",
      "  },\n",
      "  \"r\": {\n",
      "    \"0\": 0.05,\n",
      "    \"1\": 0.05\n",
      "  },\n",
      "  \"sigma\": {\n",
      "    \"0\": 0.2,\n",
      "    \"1\": 0.25\n",
      "  }\n",
      "}\n"
     ]
    }
   ],
   "source": [
    "mock_csv_data = {\n",
    "        \"option_type\": {0: \"call\", 1: \"put\"},\n",
    "        \"S\": {0: 100.0, 1: 105.0},\n",
    "        \"K\": {0: 100.0, 1: 100.0},\n",
    "        \"T\": {0: 1.0, 1: 0.5},\n",
    "        \"r\": {0: 0.05, 1: 0.05},\n",
    "        \"sigma\": {0: 0.2, 1: 0.25}\n",
    "    }\n",
    "initial_state = {\n",
    "    \"messages\": [],\n",
    "    \"csv_file_path\": \"/inputs/dummy_options.csv\",\n",
    "    \"csv_data\": mock_csv_data,\n",
    "    \"data_loader_agent_status\": \"completed\",\n",
    "    \"calculation_results\": None,\n",
    "    \"greeks_data\": None,\n",
    "    \"calculator_agent_status\": None,\n",
    "    \"test_results\": None,\n",
    "    \"test_agent_status\": None,\n",
    "    \"summary_text\": None,\n",
    "    \"summarty_writer_agnet_status\": None,\n",
    "    \"charts\": None,\n",
    "    \"chart_descriptions\": None,\n",
    "    \"chart_generator_agent_status\": None,\n",
    "    \"final_report_path\": None,\n",
    "    \"final_report_html\": None,\n",
    "    \"report_assembler_agent_status\": None,\n",
    "    \"current_agent\": None,\n",
    "    \"workflow_status\": \"started\",\n",
    "    \"errors\": []\n",
    "}\n",
    "\n",
    "# Run agent\n",
    "print(\"\\n\" + \"-\"*60)\n",
    "print(\"Running Calculator Agent...\")\n",
    "print(\"-\"*60)\n",
    "print(f\"\\nInput CSV Data:\")\n",
    "print(json.dumps(mock_csv_data, indent=2))"
   ]
  },
  {
   "cell_type": "code",
   "execution_count": 13,
   "id": "02165bd8",
   "metadata": {},
   "outputs": [
    {
     "name": "stdout",
     "output_type": "stream",
     "text": [
      "Testing: Running sensitivity test for call with base S=100.0, K=100.0, T=1.0, r=0.05, sigma=0.2\n",
      "\n",
      "Agent execution completed!\n",
      "\n",
      "Agent Status: completed\n",
      "Current Agent: calculator\n",
      "Workflow Status: in_progress\n"
     ]
    }
   ],
   "source": [
    "result = agent(initial_state)\n",
    "\n",
    "print(\"\\nAgent execution completed!\")\n",
    "print(f\"\\nAgent Status: {result.get('calculator_agent_status')}\")\n",
    "print(f\"Current Agent: {result.get('current_agent')}\")\n",
    "print(f\"Workflow Status: {result.get('workflow_status')}\")"
   ]
  },
  {
   "cell_type": "markdown",
   "id": "dbaa956f",
   "metadata": {},
   "source": [
    "## Test testor"
   ]
  },
  {
   "cell_type": "markdown",
   "id": "1d364ef2",
   "metadata": {},
   "source": [
    "### test_batch_greeks_validator"
   ]
  },
  {
   "cell_type": "code",
   "execution_count": 26,
   "id": "852a329a",
   "metadata": {},
   "outputs": [],
   "source": [
    "from src.core.bsm_validator import batch_greeks_validator"
   ]
  },
  {
   "cell_type": "code",
   "execution_count": 6,
   "id": "33f769f0",
   "metadata": {},
   "outputs": [
    {
     "name": "stdout",
     "output_type": "stream",
     "text": [
      "\n",
      "======================================================================\n",
      "TEST 1: Batch Greeks Validator\n",
      "======================================================================\n"
     ]
    }
   ],
   "source": [
    "print(\"\\n\" + \"=\"*70)\n",
    "print(\"TEST 1: Batch Greeks Validator\")\n",
    "print(\"=\"*70)"
   ]
  },
  {
   "cell_type": "code",
   "execution_count": 7,
   "id": "da847183",
   "metadata": {},
   "outputs": [],
   "source": [
    "sample_data = {\n",
    "    \"option_type\": {0: \"call\", 1: \"put\", 2: \"call\"},\n",
    "    \"S\": {0: 100.0, 1: 100.0, 2: 105.0},\n",
    "    \"K\": {0: 100.0, 1: 100.0, 2: 100.0},\n",
    "    \"T\": {0: 1.0, 1: 1.0, 2: 0.5},\n",
    "    \"r\": {0: 0.05, 1: 0.05, 2: 0.05},\n",
    "    \"sigma\": {0: 0.2, 1: 0.2, 2: 0.25}\n",
    "}"
   ]
  },
  {
   "cell_type": "markdown",
   "id": "5ff62a70",
   "metadata": {},
   "source": [
    "#### Step 1: _parse_csv_data"
   ]
  },
  {
   "cell_type": "code",
   "execution_count": 8,
   "id": "4237c365",
   "metadata": {},
   "outputs": [],
   "source": [
    "csv_data = sample_data"
   ]
  },
  {
   "cell_type": "code",
   "execution_count": 10,
   "id": "ba6db6cf",
   "metadata": {},
   "outputs": [
    {
     "data": {
      "text/plain": [
       "[False, True]"
      ]
     },
     "execution_count": 10,
     "metadata": {},
     "output_type": "execute_result"
    }
   ],
   "source": [
    "[isinstance(csv_data, str),isinstance(csv_data, dict)]"
   ]
  },
  {
   "cell_type": "code",
   "execution_count": 18,
   "id": "4b418ff1",
   "metadata": {},
   "outputs": [],
   "source": [
    "data = csv_data\n",
    "df = pd.DataFrame(data)"
   ]
  },
  {
   "cell_type": "markdown",
   "id": "5931cd53",
   "metadata": {},
   "source": [
    "#### Step 2"
   ]
  },
  {
   "cell_type": "code",
   "execution_count": 20,
   "id": "96cf1862",
   "metadata": {},
   "outputs": [
    {
     "data": {
      "text/plain": [
       "[]"
      ]
     },
     "execution_count": 20,
     "metadata": {},
     "output_type": "execute_result"
    }
   ],
   "source": [
    "required_cols = ['option_type', 'S', 'K', 'T', 'r', 'sigma']\n",
    "missing = [c for c in required_cols if c not in df.columns]\n",
    "missing"
   ]
  },
  {
   "cell_type": "code",
   "execution_count": 21,
   "id": "100d92d4",
   "metadata": {},
   "outputs": [],
   "source": [
    "results = {\n",
    "    \"total_options\": len(df),\n",
    "    \"passed\": 0,\n",
    "    \"failed\": 0,\n",
    "    \"errors\": 0,\n",
    "    \"details\": []\n",
    "}"
   ]
  },
  {
   "cell_type": "code",
   "execution_count": 22,
   "id": "5ab88054",
   "metadata": {},
   "outputs": [],
   "source": [
    "idx, row = list(df.iterrows())[0]"
   ]
  },
  {
   "cell_type": "code",
   "execution_count": 24,
   "id": "0b046113",
   "metadata": {},
   "outputs": [],
   "source": [
    "option_type = str(row['option_type']).lower()\n",
    "S, K, T, r, sigma = float(row['S']), float(row['K']), float(row['T']), float(row['r']), float(row['sigma'])"
   ]
  },
  {
   "cell_type": "code",
   "execution_count": 27,
   "id": "8304dd48",
   "metadata": {},
   "outputs": [],
   "source": [
    "result_json = batch_greeks_validator.invoke({\"csv_data\": sample_data})\n",
    "result = json.loads(result_json)"
   ]
  },
  {
   "cell_type": "code",
   "execution_count": 28,
   "id": "d41e3ce9",
   "metadata": {},
   "outputs": [
    {
     "name": "stdout",
     "output_type": "stream",
     "text": [
      "\n",
      "----------------------------------------------------------------------\n",
      "Validation Results:\n",
      "----------------------------------------------------------------------\n",
      "Status: passed\n",
      "Total Options: 3\n",
      "Passed: 3\n",
      "Failed: 0\n",
      "Errors: 0\n"
     ]
    }
   ],
   "source": [
    "print(\"\\n\" + \"-\"*70)\n",
    "print(\"Validation Results:\")\n",
    "print(\"-\"*70)\n",
    "print(f\"Status: {result['status']}\")\n",
    "print(f\"Total Options: {result['total_options']}\")\n",
    "print(f\"Passed: {result['passed']}\")\n",
    "print(f\"Failed: {result['failed']}\")\n",
    "print(f\"Errors: {result['errors']}\")"
   ]
  },
  {
   "cell_type": "markdown",
   "id": "99fefd10",
   "metadata": {},
   "source": [
    "### test_validate_put_call_parity"
   ]
  },
  {
   "cell_type": "code",
   "execution_count": 31,
   "id": "36a0bdaf",
   "metadata": {},
   "outputs": [],
   "source": [
    "from src.core.bsm_validator import validate_put_call_parity"
   ]
  },
  {
   "cell_type": "code",
   "execution_count": 32,
   "id": "d06685bd",
   "metadata": {},
   "outputs": [
    {
     "name": "stdout",
     "output_type": "stream",
     "text": [
      "\n",
      "======================================================================\n",
      "TEST 2: Put-Call Parity Validator\n",
      "======================================================================\n"
     ]
    }
   ],
   "source": [
    "print(\"\\n\" + \"=\"*70)\n",
    "print(\"TEST 2: Put-Call Parity Validator\")\n",
    "print(\"=\"*70)"
   ]
  },
  {
   "cell_type": "code",
   "execution_count": 33,
   "id": "b4e21b42",
   "metadata": {},
   "outputs": [],
   "source": [
    "sample_data = {\n",
    "    \"option_type\": {0: \"call\", 1: \"put\", 2: \"call\", 3: \"put\"},\n",
    "    \"S\": {0: 100.0, 1: 100.0, 2: 105.0, 3: 105.0},\n",
    "    \"K\": {0: 100.0, 1: 100.0, 2: 100.0, 3: 100.0},\n",
    "    \"T\": {0: 1.0, 1: 1.0, 2: 0.5, 3: 0.5},\n",
    "    \"r\": {0: 0.05, 1: 0.05, 2: 0.05, 3: 0.05},\n",
    "    \"sigma\": {0: 0.2, 1: 0.2, 2: 0.25, 3: 0.25}\n",
    "}"
   ]
  },
  {
   "cell_type": "code",
   "execution_count": 34,
   "id": "640805fe",
   "metadata": {},
   "outputs": [
    {
     "name": "stdout",
     "output_type": "stream",
     "text": [
      "\n",
      "----------------------------------------------------------------------\n",
      "Parity Test Results:\n",
      "----------------------------------------------------------------------\n",
      "Status: passed\n",
      "Pairs Found: 2\n",
      "Pairs Tested: 2\n",
      "Pairs Passed: 2\n",
      "Pairs Failed: 0\n"
     ]
    }
   ],
   "source": [
    "result_json = validate_put_call_parity.invoke({\"csv_data\": sample_data})\n",
    "result = json.loads(result_json)\n",
    "\n",
    "print(\"\\n\" + \"-\"*70)\n",
    "print(\"Parity Test Results:\")\n",
    "print(\"-\"*70)\n",
    "print(f\"Status: {result['status']}\")\n",
    "print(f\"Pairs Found: {result['pairs_found']}\")\n",
    "print(f\"Pairs Tested: {result['pairs_tested']}\")\n",
    "print(f\"Pairs Passed: {result['pairs_passed']}\")\n",
    "print(f\"Pairs Failed: {result['pairs_failed']}\")"
   ]
  },
  {
   "cell_type": "markdown",
   "id": "c334e054",
   "metadata": {},
   "source": [
    "### test_validate_sensitivity"
   ]
  },
  {
   "cell_type": "code",
   "execution_count": 35,
   "id": "b40e1b4d",
   "metadata": {},
   "outputs": [],
   "source": [
    "from src.core.bsm_validator import validate_sensitivity"
   ]
  },
  {
   "cell_type": "code",
   "execution_count": 36,
   "id": "24ef83e1",
   "metadata": {},
   "outputs": [
    {
     "name": "stdout",
     "output_type": "stream",
     "text": [
      "\n",
      "======================================================================\n",
      "TEST 3: Sensitivity Validator\n",
      "======================================================================\n"
     ]
    }
   ],
   "source": [
    "print(\"\\n\" + \"=\"*70)\n",
    "print(\"TEST 3: Sensitivity Validator\")\n",
    "print(\"=\"*70)"
   ]
  },
  {
   "cell_type": "code",
   "execution_count": 37,
   "id": "da023413",
   "metadata": {},
   "outputs": [],
   "source": [
    "sample_data = {\n",
    "    \"option_type\": {0: \"call\"},\n",
    "    \"S\": {0: 100.0},\n",
    "    \"K\": {0: 100.0},\n",
    "    \"T\": {0: 1.0},\n",
    "    \"r\": {0: 0.05},\n",
    "    \"sigma\": {0: 0.2}\n",
    "}"
   ]
  },
  {
   "cell_type": "code",
   "execution_count": 38,
   "id": "edf0445f",
   "metadata": {},
   "outputs": [
    {
     "name": "stdout",
     "output_type": "stream",
     "text": [
      "\n",
      "----------------------------------------------------------------------\n",
      "Sensitivity Test Results:\n",
      "----------------------------------------------------------------------\n",
      "Status: passed\n"
     ]
    }
   ],
   "source": [
    "result_json = validate_sensitivity.invoke({\"csv_data\": sample_data})\n",
    "result = json.loads(result_json)\n",
    "\n",
    "print(\"\\n\" + \"-\"*70)\n",
    "print(\"Sensitivity Test Results:\")\n",
    "print(\"-\"*70)\n",
    "print(f\"Status: {result['status']}\")"
   ]
  },
  {
   "cell_type": "markdown",
   "id": "d548b588",
   "metadata": {},
   "source": [
    "### Test testor"
   ]
  },
  {
   "cell_type": "code",
   "execution_count": 37,
   "id": "a6969a3c",
   "metadata": {},
   "outputs": [],
   "source": [
    "from src.agents.nodes import tester_agent\n",
    "importlib.reload(tester_agent)\n",
    "from src.agents.nodes.tester_agent import Tester"
   ]
  },
  {
   "cell_type": "code",
   "execution_count": 38,
   "id": "ef57fdf4",
   "metadata": {},
   "outputs": [
    {
     "name": "stdout",
     "output_type": "stream",
     "text": [
      "\n",
      "============================================================\n",
      "Testing Agent 3: Tester (Test Agent)\n",
      "============================================================\n"
     ]
    }
   ],
   "source": [
    "print(\"\\n\" + \"=\"*60)\n",
    "print(\"Testing Agent 3: Tester (Test Agent)\")\n",
    "print(\"=\"*60)"
   ]
  },
  {
   "cell_type": "code",
   "execution_count": 41,
   "id": "cb946476",
   "metadata": {},
   "outputs": [],
   "source": [
    "llm = get_llm()\n",
    "agent = Tester(llm)"
   ]
  },
  {
   "cell_type": "code",
   "execution_count": null,
   "id": "4f5e5fc4",
   "metadata": {},
   "outputs": [],
   "source": [
    "mock_csv_data = {\n",
    "    \"option_type\": {0: \"call\", 1: \"put\", 2: \"call\", 3: \"put\"},\n",
    "    \"S\": {0: 100.0, 1: 100.0, 2: 105.0, 3: 105.0},\n",
    "    \"K\": {0: 100.0, 1: 100.0, 2: 100.0, 3: 100.0},\n",
    "    \"T\": {0: 1.0, 1: 1.0, 2: 0.5, 3: 0.5},\n",
    "    \"r\": {0: 0.05, 1: 0.05, 2: 0.05, 3: 0.05},\n",
    "    \"sigma\": {0: 0.2, 1: 0.2, 2: 0.25, 3: 0.25}\n",
    "}\n",
    "\n",
    "# mock_calculation_results = \"\"\"\n",
    "# |   K |   S |   T | option_type   |    r |   sigma |   BSM_Price |\n",
    "# |----:|----:|----:|:--------------|-----:|--------:|------------:|\n",
    "# | 100 | 100 | 1   | call          | 0.05 |    0.2  |    10.4506  |\n",
    "# | 100 | 100 | 1   | put           | 0.05 |    0.2  |     5.57353 |\n",
    "# | 100 | 105 | 0.5 | call          | 0.05 |    0.25 |    11.4774  |\n",
    "# | 100 | 105 | 0.5 | put           | 0.05 |    0.25 |     4.00839 |\n",
    "# \"\"\"\n"
   ]
  },
  {
   "cell_type": "code",
   "execution_count": null,
   "id": "38d3595e",
   "metadata": {},
   "outputs": [
    {
     "name": "stdout",
     "output_type": "stream",
     "text": [
      "\n",
      "------------------------------------------------------------\n",
      "Running Test Agent...\n",
      "------------------------------------------------------------\n",
      "\n",
      "This agent will execute actual pytest test functions:\n",
      "  - test_greeks_call_basic\n",
      "  - test_greeks_put_call_parity\n",
      "  - test_sensitivity_length_and_fields\n"
     ]
    }
   ],
   "source": [
    "initial_state = {\n",
    "    \"messages\": [],\n",
    "    \"csv_file_path\": \"/inputs/dummy_options.csv\",\n",
    "    \"csv_data\": mock_csv_data,\n",
    "    \"data_loader_agent_status\": \"completed\",\n",
    "    # \"calculation_results\": mock_calculation_results,\n",
    "    \"calculation_results\": None,\n",
    "    \"greeks_data\": None,\n",
    "    \"sensitivity_data\": None,\n",
    "    \"calculator_agent_status\": \"completed\",\n",
    "    \"test_results\": None,\n",
    "    \"tester_agent_status\": None,\n",
    "    \"summary_text\": None,\n",
    "    \"summarty_writer_agnet_status\": None,\n",
    "    \"charts\": None,\n",
    "    \"chart_descriptions\": None,\n",
    "    \"chart_generator_agent_status\": None,\n",
    "    \"final_report_path\": None,\n",
    "    \"final_report_html\": None,\n",
    "    \"report_assembler_agent_status\": None,\n",
    "    \"current_agent\": \"agent2\",\n",
    "    \"workflow_status\": \"in_progress\",\n",
    "    \"errors\": []\n",
    "}\n",
    "print(\"\\n\" + \"-\"*60)\n",
    "print(\"Running Test Agent...\")\n",
    "print(\"-\"*60)\n",
    "print(\"\\nThis agent will execute actual pytest test functions:\")\n",
    "print(\"  - test_greeks_call_basic\")\n",
    "print(\"  - test_greeks_put_call_parity\")\n",
    "print(\"  - test_sensitivity_length_and_fields\")"
   ]
  },
  {
   "cell_type": "code",
   "execution_count": 44,
   "id": "e25b415c",
   "metadata": {},
   "outputs": [
    {
     "name": "stdout",
     "output_type": "stream",
     "text": [
      "\n",
      "Agent execution completed!\n",
      "\n",
      "Agent Status: completed\n",
      "Current Agent: tester\n",
      "Workflow Status: in_progress\n"
     ]
    }
   ],
   "source": [
    "result = agent(initial_state)\n",
    "\n",
    "print(\"\\nAgent execution completed!\")\n",
    "print(f\"\\nAgent Status: {result.get('tester_agent_status')}\")\n",
    "print(f\"Current Agent: {result.get('current_agent')}\")\n",
    "print(f\"Workflow Status: {result.get('workflow_status')}\")"
   ]
  },
  {
   "cell_type": "markdown",
   "id": "97fe6c8e",
   "metadata": {},
   "source": [
    "## Test summary writer"
   ]
  },
  {
   "cell_type": "code",
   "execution_count": null,
   "id": "b930b601",
   "metadata": {},
   "outputs": [],
   "source": []
  }
 ],
 "metadata": {
  "kernelspec": {
   "display_name": "model_doc_automation",
   "language": "python",
   "name": "python3"
  },
  "language_info": {
   "codemirror_mode": {
    "name": "ipython",
    "version": 3
   },
   "file_extension": ".py",
   "mimetype": "text/x-python",
   "name": "python",
   "nbconvert_exporter": "python",
   "pygments_lexer": "ipython3",
   "version": "3.12.9"
  }
 },
 "nbformat": 4,
 "nbformat_minor": 5
}
